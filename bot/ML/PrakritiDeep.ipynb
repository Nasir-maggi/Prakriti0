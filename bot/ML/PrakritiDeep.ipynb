{
 "cells": [
  {
   "cell_type": "code",
   "execution_count": 1,
   "metadata": {},
   "outputs": [
    {
     "name": "stdout",
     "output_type": "stream",
     "text": [
      "WARNING:tensorflow:From d:\\Code\\Prakriti\\bot\\project\\lib\\site-packages\\keras\\src\\losses.py:2976: The name tf.losses.sparse_softmax_cross_entropy is deprecated. Please use tf.compat.v1.losses.sparse_softmax_cross_entropy instead.\n",
      "\n"
     ]
    }
   ],
   "source": [
    "import tensorflow as tf\n",
    "from tensorflow import keras\n",
    "import pandas as pd\n",
    "import numpy as np\n",
    "from sklearn.model_selection import train_test_split"
   ]
  },
  {
   "cell_type": "code",
   "execution_count": 2,
   "metadata": {},
   "outputs": [
    {
     "data": {
      "text/html": [
       "<div>\n",
       "<style scoped>\n",
       "    .dataframe tbody tr th:only-of-type {\n",
       "        vertical-align: middle;\n",
       "    }\n",
       "\n",
       "    .dataframe tbody tr th {\n",
       "        vertical-align: top;\n",
       "    }\n",
       "\n",
       "    .dataframe thead th {\n",
       "        text-align: right;\n",
       "    }\n",
       "</style>\n",
       "<table border=\"1\" class=\"dataframe\">\n",
       "  <thead>\n",
       "    <tr style=\"text-align: right;\">\n",
       "      <th></th>\n",
       "      <th>Body Size</th>\n",
       "      <th>Body Weight</th>\n",
       "      <th>Height</th>\n",
       "      <th>Bone Structure</th>\n",
       "      <th>Com1lexion</th>\n",
       "      <th>General feel of skin</th>\n",
       "      <th>Texture of Skin</th>\n",
       "      <th>Hair Color</th>\n",
       "      <th>A11earance of Hair</th>\n",
       "      <th>Sha1e of face</th>\n",
       "      <th>...</th>\n",
       "      <th>Eyelashes</th>\n",
       "      <th>Blinking of Eyes</th>\n",
       "      <th>Cheeks</th>\n",
       "      <th>Nose</th>\n",
       "      <th>Teeth and gums</th>\n",
       "      <th>Li1s</th>\n",
       "      <th>Nails</th>\n",
       "      <th>A11etite</th>\n",
       "      <th>Liking tastes</th>\n",
       "      <th>Dosha</th>\n",
       "    </tr>\n",
       "  </thead>\n",
       "  <tbody>\n",
       "    <tr>\n",
       "      <th>0</th>\n",
       "      <td>1</td>\n",
       "      <td>1</td>\n",
       "      <td>1</td>\n",
       "      <td>2</td>\n",
       "      <td>2</td>\n",
       "      <td>0</td>\n",
       "      <td>0</td>\n",
       "      <td>0</td>\n",
       "      <td>1</td>\n",
       "      <td>0</td>\n",
       "      <td>...</td>\n",
       "      <td>1</td>\n",
       "      <td>1</td>\n",
       "      <td>0</td>\n",
       "      <td>2</td>\n",
       "      <td>2</td>\n",
       "      <td>0</td>\n",
       "      <td>2</td>\n",
       "      <td>2</td>\n",
       "      <td>0</td>\n",
       "      <td>3</td>\n",
       "    </tr>\n",
       "    <tr>\n",
       "      <th>1</th>\n",
       "      <td>1</td>\n",
       "      <td>1</td>\n",
       "      <td>0</td>\n",
       "      <td>1</td>\n",
       "      <td>1</td>\n",
       "      <td>0</td>\n",
       "      <td>2</td>\n",
       "      <td>1</td>\n",
       "      <td>0</td>\n",
       "      <td>0</td>\n",
       "      <td>...</td>\n",
       "      <td>1</td>\n",
       "      <td>1</td>\n",
       "      <td>1</td>\n",
       "      <td>2</td>\n",
       "      <td>1</td>\n",
       "      <td>0</td>\n",
       "      <td>0</td>\n",
       "      <td>2</td>\n",
       "      <td>0</td>\n",
       "      <td>3</td>\n",
       "    </tr>\n",
       "    <tr>\n",
       "      <th>2</th>\n",
       "      <td>0</td>\n",
       "      <td>1</td>\n",
       "      <td>1</td>\n",
       "      <td>1</td>\n",
       "      <td>1</td>\n",
       "      <td>1</td>\n",
       "      <td>2</td>\n",
       "      <td>0</td>\n",
       "      <td>0</td>\n",
       "      <td>0</td>\n",
       "      <td>...</td>\n",
       "      <td>1</td>\n",
       "      <td>1</td>\n",
       "      <td>1</td>\n",
       "      <td>2</td>\n",
       "      <td>1</td>\n",
       "      <td>1</td>\n",
       "      <td>1</td>\n",
       "      <td>2</td>\n",
       "      <td>0</td>\n",
       "      <td>1</td>\n",
       "    </tr>\n",
       "    <tr>\n",
       "      <th>3</th>\n",
       "      <td>0</td>\n",
       "      <td>1</td>\n",
       "      <td>0</td>\n",
       "      <td>0</td>\n",
       "      <td>1</td>\n",
       "      <td>0</td>\n",
       "      <td>2</td>\n",
       "      <td>0</td>\n",
       "      <td>1</td>\n",
       "      <td>2</td>\n",
       "      <td>...</td>\n",
       "      <td>0</td>\n",
       "      <td>1</td>\n",
       "      <td>1</td>\n",
       "      <td>0</td>\n",
       "      <td>1</td>\n",
       "      <td>1</td>\n",
       "      <td>0</td>\n",
       "      <td>2</td>\n",
       "      <td>0</td>\n",
       "      <td>3</td>\n",
       "    </tr>\n",
       "    <tr>\n",
       "      <th>4</th>\n",
       "      <td>2</td>\n",
       "      <td>1</td>\n",
       "      <td>0</td>\n",
       "      <td>1</td>\n",
       "      <td>0</td>\n",
       "      <td>1</td>\n",
       "      <td>2</td>\n",
       "      <td>0</td>\n",
       "      <td>0</td>\n",
       "      <td>0</td>\n",
       "      <td>...</td>\n",
       "      <td>0</td>\n",
       "      <td>1</td>\n",
       "      <td>0</td>\n",
       "      <td>1</td>\n",
       "      <td>1</td>\n",
       "      <td>1</td>\n",
       "      <td>1</td>\n",
       "      <td>1</td>\n",
       "      <td>1</td>\n",
       "      <td>3</td>\n",
       "    </tr>\n",
       "    <tr>\n",
       "      <th>...</th>\n",
       "      <td>...</td>\n",
       "      <td>...</td>\n",
       "      <td>...</td>\n",
       "      <td>...</td>\n",
       "      <td>...</td>\n",
       "      <td>...</td>\n",
       "      <td>...</td>\n",
       "      <td>...</td>\n",
       "      <td>...</td>\n",
       "      <td>...</td>\n",
       "      <td>...</td>\n",
       "      <td>...</td>\n",
       "      <td>...</td>\n",
       "      <td>...</td>\n",
       "      <td>...</td>\n",
       "      <td>...</td>\n",
       "      <td>...</td>\n",
       "      <td>...</td>\n",
       "      <td>...</td>\n",
       "      <td>...</td>\n",
       "      <td>...</td>\n",
       "    </tr>\n",
       "    <tr>\n",
       "      <th>291</th>\n",
       "      <td>0</td>\n",
       "      <td>1</td>\n",
       "      <td>0</td>\n",
       "      <td>1</td>\n",
       "      <td>2</td>\n",
       "      <td>1</td>\n",
       "      <td>0</td>\n",
       "      <td>0</td>\n",
       "      <td>1</td>\n",
       "      <td>0</td>\n",
       "      <td>...</td>\n",
       "      <td>0</td>\n",
       "      <td>1</td>\n",
       "      <td>0</td>\n",
       "      <td>1</td>\n",
       "      <td>0</td>\n",
       "      <td>0</td>\n",
       "      <td>0</td>\n",
       "      <td>0</td>\n",
       "      <td>0</td>\n",
       "      <td>0</td>\n",
       "    </tr>\n",
       "    <tr>\n",
       "      <th>292</th>\n",
       "      <td>1</td>\n",
       "      <td>1</td>\n",
       "      <td>1</td>\n",
       "      <td>1</td>\n",
       "      <td>1</td>\n",
       "      <td>1</td>\n",
       "      <td>2</td>\n",
       "      <td>0</td>\n",
       "      <td>1</td>\n",
       "      <td>2</td>\n",
       "      <td>...</td>\n",
       "      <td>1</td>\n",
       "      <td>1</td>\n",
       "      <td>1</td>\n",
       "      <td>0</td>\n",
       "      <td>1</td>\n",
       "      <td>1</td>\n",
       "      <td>1</td>\n",
       "      <td>0</td>\n",
       "      <td>0</td>\n",
       "      <td>1</td>\n",
       "    </tr>\n",
       "    <tr>\n",
       "      <th>293</th>\n",
       "      <td>1</td>\n",
       "      <td>1</td>\n",
       "      <td>1</td>\n",
       "      <td>1</td>\n",
       "      <td>1</td>\n",
       "      <td>1</td>\n",
       "      <td>2</td>\n",
       "      <td>0</td>\n",
       "      <td>2</td>\n",
       "      <td>0</td>\n",
       "      <td>...</td>\n",
       "      <td>1</td>\n",
       "      <td>1</td>\n",
       "      <td>2</td>\n",
       "      <td>0</td>\n",
       "      <td>1</td>\n",
       "      <td>1</td>\n",
       "      <td>2</td>\n",
       "      <td>2</td>\n",
       "      <td>0</td>\n",
       "      <td>1</td>\n",
       "    </tr>\n",
       "    <tr>\n",
       "      <th>294</th>\n",
       "      <td>1</td>\n",
       "      <td>1</td>\n",
       "      <td>1</td>\n",
       "      <td>1</td>\n",
       "      <td>1</td>\n",
       "      <td>1</td>\n",
       "      <td>2</td>\n",
       "      <td>0</td>\n",
       "      <td>1</td>\n",
       "      <td>0</td>\n",
       "      <td>...</td>\n",
       "      <td>1</td>\n",
       "      <td>1</td>\n",
       "      <td>2</td>\n",
       "      <td>0</td>\n",
       "      <td>1</td>\n",
       "      <td>1</td>\n",
       "      <td>2</td>\n",
       "      <td>2</td>\n",
       "      <td>0</td>\n",
       "      <td>1</td>\n",
       "    </tr>\n",
       "    <tr>\n",
       "      <th>295</th>\n",
       "      <td>1</td>\n",
       "      <td>1</td>\n",
       "      <td>0</td>\n",
       "      <td>1</td>\n",
       "      <td>1</td>\n",
       "      <td>1</td>\n",
       "      <td>2</td>\n",
       "      <td>0</td>\n",
       "      <td>0</td>\n",
       "      <td>0</td>\n",
       "      <td>...</td>\n",
       "      <td>1</td>\n",
       "      <td>1</td>\n",
       "      <td>0</td>\n",
       "      <td>2</td>\n",
       "      <td>1</td>\n",
       "      <td>1</td>\n",
       "      <td>0</td>\n",
       "      <td>2</td>\n",
       "      <td>0</td>\n",
       "      <td>3</td>\n",
       "    </tr>\n",
       "  </tbody>\n",
       "</table>\n",
       "<p>296 rows × 21 columns</p>\n",
       "</div>"
      ],
      "text/plain": [
       "     Body Size  Body Weight  Height  Bone Structure  Com1lexion  \\\n",
       "0            1            1       1               2           2   \n",
       "1            1            1       0               1           1   \n",
       "2            0            1       1               1           1   \n",
       "3            0            1       0               0           1   \n",
       "4            2            1       0               1           0   \n",
       "..         ...          ...     ...             ...         ...   \n",
       "291          0            1       0               1           2   \n",
       "292          1            1       1               1           1   \n",
       "293          1            1       1               1           1   \n",
       "294          1            1       1               1           1   \n",
       "295          1            1       0               1           1   \n",
       "\n",
       "     General feel of skin  Texture of Skin  Hair Color  A11earance of Hair  \\\n",
       "0                       0                0           0                   1   \n",
       "1                       0                2           1                   0   \n",
       "2                       1                2           0                   0   \n",
       "3                       0                2           0                   1   \n",
       "4                       1                2           0                   0   \n",
       "..                    ...              ...         ...                 ...   \n",
       "291                     1                0           0                   1   \n",
       "292                     1                2           0                   1   \n",
       "293                     1                2           0                   2   \n",
       "294                     1                2           0                   1   \n",
       "295                     1                2           0                   0   \n",
       "\n",
       "     Sha1e of face  ...  Eyelashes  Blinking of Eyes  Cheeks  Nose  \\\n",
       "0                0  ...          1                 1       0     2   \n",
       "1                0  ...          1                 1       1     2   \n",
       "2                0  ...          1                 1       1     2   \n",
       "3                2  ...          0                 1       1     0   \n",
       "4                0  ...          0                 1       0     1   \n",
       "..             ...  ...        ...               ...     ...   ...   \n",
       "291              0  ...          0                 1       0     1   \n",
       "292              2  ...          1                 1       1     0   \n",
       "293              0  ...          1                 1       2     0   \n",
       "294              0  ...          1                 1       2     0   \n",
       "295              0  ...          1                 1       0     2   \n",
       "\n",
       "     Teeth and gums  Li1s  Nails  A11etite  Liking tastes  Dosha  \n",
       "0                 2     0      2         2              0      3  \n",
       "1                 1     0      0         2              0      3  \n",
       "2                 1     1      1         2              0      1  \n",
       "3                 1     1      0         2              0      3  \n",
       "4                 1     1      1         1              1      3  \n",
       "..              ...   ...    ...       ...            ...    ...  \n",
       "291               0     0      0         0              0      0  \n",
       "292               1     1      1         0              0      1  \n",
       "293               1     1      2         2              0      1  \n",
       "294               1     1      2         2              0      1  \n",
       "295               1     1      0         2              0      3  \n",
       "\n",
       "[296 rows x 21 columns]"
      ]
     },
     "execution_count": 2,
     "metadata": {},
     "output_type": "execute_result"
    }
   ],
   "source": [
    "dataset = pd.read_csv(\"../dataset/data.csv\")\n",
    "dataset"
   ]
  },
  {
   "cell_type": "code",
   "execution_count": 3,
   "metadata": {},
   "outputs": [
    {
     "name": "stdout",
     "output_type": "stream",
     "text": [
      "[[1 1 1 ... 2 2 0]\n",
      " [1 1 0 ... 0 2 0]\n",
      " [0 1 1 ... 1 2 0]\n",
      " ...\n",
      " [1 1 1 ... 2 2 0]\n",
      " [1 1 1 ... 2 2 0]\n",
      " [1 1 0 ... 0 2 0]]\n"
     ]
    }
   ],
   "source": [
    "X=dataset.iloc[:,:-1].values\n",
    "Y=dataset.iloc[:,20].values\n",
    "print(X)"
   ]
  },
  {
   "cell_type": "code",
   "execution_count": 4,
   "metadata": {},
   "outputs": [
    {
     "name": "stdout",
     "output_type": "stream",
     "text": [
      "[3 3 1 3 3 3 1 3 1 3 3 2 3 3 2 0 1 2 3 0 1 3 3 3 5 4 3 4 3 0 3 0 5 3 3 0 0\n",
      " 3 3 3 0 2 0 3 4 3 0 0 1 1 2 3 0 3 3 3 0 0 5 1 0 0 3 5 3 3 3 3 3 3 3 3 0 0\n",
      " 0 0 0 3 1 3 3 3 0 3 2 3 3 3 3 3 3 0 1 1 1 3 3 3 4 3 3 3 1 3 3 3 1 3 1 3 3\n",
      " 2 3 3 2 0 1 2 3 0 1 3 3 3 5 4 3 4 3 0 3 0 5 3 3 0 0 3 3 3 0 2 0 3 4 3 0 0\n",
      " 1 1 2 3 0 3 3 3 0 0 5 1 0 0 3 5 3 3 3 3 3 3 3 3 0 0 0 0 0 3 1 3 3 3 0 3 2\n",
      " 3 3 3 3 3 3 0 1 1 1 3 3 3 4 3 3 3 1 3 3 3 1 3 1 3 3 2 3 3 2 0 1 2 3 0 1 3\n",
      " 3 3 5 4 3 4 3 0 3 0 5 3 3 0 0 3 3 3 0 2 0 3 4 3 0 0 1 1 2 3 0 3 3 3 0 0 5\n",
      " 1 0 0 3 5 3 3 3 3 3 3 3 3 0 0 0 0 0 3 1 3 3 3 0 3 2 3 3 3 3 3 3 0 1 1 1 3]\n"
     ]
    }
   ],
   "source": [
    "print(Y)"
   ]
  },
  {
   "cell_type": "code",
   "execution_count": 5,
   "metadata": {},
   "outputs": [],
   "source": [
    "X_train, X_test, y_train, y_test = train_test_split(X, Y, test_size = 0.2, random_state = 42)\n"
   ]
  },
  {
   "cell_type": "code",
   "execution_count": 6,
   "metadata": {},
   "outputs": [
    {
     "data": {
      "text/plain": [
       "array([[2, 2, 1, ..., 1, 1, 0],\n",
       "       [2, 2, 2, ..., 2, 2, 2],\n",
       "       [0, 0, 0, ..., 0, 0, 0],\n",
       "       ...,\n",
       "       [2, 1, 0, ..., 1, 2, 0],\n",
       "       [1, 1, 1, ..., 0, 1, 0],\n",
       "       [0, 1, 1, ..., 1, 2, 0]], dtype=int64)"
      ]
     },
     "execution_count": 6,
     "metadata": {},
     "output_type": "execute_result"
    }
   ],
   "source": [
    "X_train"
   ]
  },
  {
   "cell_type": "code",
   "execution_count": 7,
   "metadata": {},
   "outputs": [
    {
     "data": {
      "text/html": [
       "<div>\n",
       "<style scoped>\n",
       "    .dataframe tbody tr th:only-of-type {\n",
       "        vertical-align: middle;\n",
       "    }\n",
       "\n",
       "    .dataframe tbody tr th {\n",
       "        vertical-align: top;\n",
       "    }\n",
       "\n",
       "    .dataframe thead th {\n",
       "        text-align: right;\n",
       "    }\n",
       "</style>\n",
       "<table border=\"1\" class=\"dataframe\">\n",
       "  <thead>\n",
       "    <tr style=\"text-align: right;\">\n",
       "      <th></th>\n",
       "      <th>Body Size</th>\n",
       "      <th>Body Weight</th>\n",
       "      <th>Height</th>\n",
       "      <th>Bone Structure</th>\n",
       "      <th>Com1lexion</th>\n",
       "      <th>General feel of skin</th>\n",
       "      <th>Texture of Skin</th>\n",
       "      <th>Hair Color</th>\n",
       "      <th>A11earance of Hair</th>\n",
       "      <th>Sha1e of face</th>\n",
       "      <th>...</th>\n",
       "      <th>Eyelashes</th>\n",
       "      <th>Blinking of Eyes</th>\n",
       "      <th>Cheeks</th>\n",
       "      <th>Nose</th>\n",
       "      <th>Teeth and gums</th>\n",
       "      <th>Li1s</th>\n",
       "      <th>Nails</th>\n",
       "      <th>A11etite</th>\n",
       "      <th>Liking tastes</th>\n",
       "      <th>Dosha</th>\n",
       "    </tr>\n",
       "  </thead>\n",
       "  <tbody>\n",
       "    <tr>\n",
       "      <th>0</th>\n",
       "      <td>1</td>\n",
       "      <td>1</td>\n",
       "      <td>1</td>\n",
       "      <td>2</td>\n",
       "      <td>2</td>\n",
       "      <td>0</td>\n",
       "      <td>0</td>\n",
       "      <td>0</td>\n",
       "      <td>1</td>\n",
       "      <td>0</td>\n",
       "      <td>...</td>\n",
       "      <td>1</td>\n",
       "      <td>1</td>\n",
       "      <td>0</td>\n",
       "      <td>2</td>\n",
       "      <td>2</td>\n",
       "      <td>0</td>\n",
       "      <td>2</td>\n",
       "      <td>2</td>\n",
       "      <td>0</td>\n",
       "      <td>3</td>\n",
       "    </tr>\n",
       "    <tr>\n",
       "      <th>1</th>\n",
       "      <td>1</td>\n",
       "      <td>1</td>\n",
       "      <td>0</td>\n",
       "      <td>1</td>\n",
       "      <td>1</td>\n",
       "      <td>0</td>\n",
       "      <td>2</td>\n",
       "      <td>1</td>\n",
       "      <td>0</td>\n",
       "      <td>0</td>\n",
       "      <td>...</td>\n",
       "      <td>1</td>\n",
       "      <td>1</td>\n",
       "      <td>1</td>\n",
       "      <td>2</td>\n",
       "      <td>1</td>\n",
       "      <td>0</td>\n",
       "      <td>0</td>\n",
       "      <td>2</td>\n",
       "      <td>0</td>\n",
       "      <td>3</td>\n",
       "    </tr>\n",
       "    <tr>\n",
       "      <th>2</th>\n",
       "      <td>0</td>\n",
       "      <td>1</td>\n",
       "      <td>1</td>\n",
       "      <td>1</td>\n",
       "      <td>1</td>\n",
       "      <td>1</td>\n",
       "      <td>2</td>\n",
       "      <td>0</td>\n",
       "      <td>0</td>\n",
       "      <td>0</td>\n",
       "      <td>...</td>\n",
       "      <td>1</td>\n",
       "      <td>1</td>\n",
       "      <td>1</td>\n",
       "      <td>2</td>\n",
       "      <td>1</td>\n",
       "      <td>1</td>\n",
       "      <td>1</td>\n",
       "      <td>2</td>\n",
       "      <td>0</td>\n",
       "      <td>1</td>\n",
       "    </tr>\n",
       "    <tr>\n",
       "      <th>3</th>\n",
       "      <td>0</td>\n",
       "      <td>1</td>\n",
       "      <td>0</td>\n",
       "      <td>0</td>\n",
       "      <td>1</td>\n",
       "      <td>0</td>\n",
       "      <td>2</td>\n",
       "      <td>0</td>\n",
       "      <td>1</td>\n",
       "      <td>2</td>\n",
       "      <td>...</td>\n",
       "      <td>0</td>\n",
       "      <td>1</td>\n",
       "      <td>1</td>\n",
       "      <td>0</td>\n",
       "      <td>1</td>\n",
       "      <td>1</td>\n",
       "      <td>0</td>\n",
       "      <td>2</td>\n",
       "      <td>0</td>\n",
       "      <td>3</td>\n",
       "    </tr>\n",
       "    <tr>\n",
       "      <th>4</th>\n",
       "      <td>2</td>\n",
       "      <td>1</td>\n",
       "      <td>0</td>\n",
       "      <td>1</td>\n",
       "      <td>0</td>\n",
       "      <td>1</td>\n",
       "      <td>2</td>\n",
       "      <td>0</td>\n",
       "      <td>0</td>\n",
       "      <td>0</td>\n",
       "      <td>...</td>\n",
       "      <td>0</td>\n",
       "      <td>1</td>\n",
       "      <td>0</td>\n",
       "      <td>1</td>\n",
       "      <td>1</td>\n",
       "      <td>1</td>\n",
       "      <td>1</td>\n",
       "      <td>1</td>\n",
       "      <td>1</td>\n",
       "      <td>3</td>\n",
       "    </tr>\n",
       "    <tr>\n",
       "      <th>...</th>\n",
       "      <td>...</td>\n",
       "      <td>...</td>\n",
       "      <td>...</td>\n",
       "      <td>...</td>\n",
       "      <td>...</td>\n",
       "      <td>...</td>\n",
       "      <td>...</td>\n",
       "      <td>...</td>\n",
       "      <td>...</td>\n",
       "      <td>...</td>\n",
       "      <td>...</td>\n",
       "      <td>...</td>\n",
       "      <td>...</td>\n",
       "      <td>...</td>\n",
       "      <td>...</td>\n",
       "      <td>...</td>\n",
       "      <td>...</td>\n",
       "      <td>...</td>\n",
       "      <td>...</td>\n",
       "      <td>...</td>\n",
       "      <td>...</td>\n",
       "    </tr>\n",
       "    <tr>\n",
       "      <th>291</th>\n",
       "      <td>0</td>\n",
       "      <td>1</td>\n",
       "      <td>0</td>\n",
       "      <td>1</td>\n",
       "      <td>2</td>\n",
       "      <td>1</td>\n",
       "      <td>0</td>\n",
       "      <td>0</td>\n",
       "      <td>1</td>\n",
       "      <td>0</td>\n",
       "      <td>...</td>\n",
       "      <td>0</td>\n",
       "      <td>1</td>\n",
       "      <td>0</td>\n",
       "      <td>1</td>\n",
       "      <td>0</td>\n",
       "      <td>0</td>\n",
       "      <td>0</td>\n",
       "      <td>0</td>\n",
       "      <td>0</td>\n",
       "      <td>0</td>\n",
       "    </tr>\n",
       "    <tr>\n",
       "      <th>292</th>\n",
       "      <td>1</td>\n",
       "      <td>1</td>\n",
       "      <td>1</td>\n",
       "      <td>1</td>\n",
       "      <td>1</td>\n",
       "      <td>1</td>\n",
       "      <td>2</td>\n",
       "      <td>0</td>\n",
       "      <td>1</td>\n",
       "      <td>2</td>\n",
       "      <td>...</td>\n",
       "      <td>1</td>\n",
       "      <td>1</td>\n",
       "      <td>1</td>\n",
       "      <td>0</td>\n",
       "      <td>1</td>\n",
       "      <td>1</td>\n",
       "      <td>1</td>\n",
       "      <td>0</td>\n",
       "      <td>0</td>\n",
       "      <td>1</td>\n",
       "    </tr>\n",
       "    <tr>\n",
       "      <th>293</th>\n",
       "      <td>1</td>\n",
       "      <td>1</td>\n",
       "      <td>1</td>\n",
       "      <td>1</td>\n",
       "      <td>1</td>\n",
       "      <td>1</td>\n",
       "      <td>2</td>\n",
       "      <td>0</td>\n",
       "      <td>2</td>\n",
       "      <td>0</td>\n",
       "      <td>...</td>\n",
       "      <td>1</td>\n",
       "      <td>1</td>\n",
       "      <td>2</td>\n",
       "      <td>0</td>\n",
       "      <td>1</td>\n",
       "      <td>1</td>\n",
       "      <td>2</td>\n",
       "      <td>2</td>\n",
       "      <td>0</td>\n",
       "      <td>1</td>\n",
       "    </tr>\n",
       "    <tr>\n",
       "      <th>294</th>\n",
       "      <td>1</td>\n",
       "      <td>1</td>\n",
       "      <td>1</td>\n",
       "      <td>1</td>\n",
       "      <td>1</td>\n",
       "      <td>1</td>\n",
       "      <td>2</td>\n",
       "      <td>0</td>\n",
       "      <td>1</td>\n",
       "      <td>0</td>\n",
       "      <td>...</td>\n",
       "      <td>1</td>\n",
       "      <td>1</td>\n",
       "      <td>2</td>\n",
       "      <td>0</td>\n",
       "      <td>1</td>\n",
       "      <td>1</td>\n",
       "      <td>2</td>\n",
       "      <td>2</td>\n",
       "      <td>0</td>\n",
       "      <td>1</td>\n",
       "    </tr>\n",
       "    <tr>\n",
       "      <th>295</th>\n",
       "      <td>1</td>\n",
       "      <td>1</td>\n",
       "      <td>0</td>\n",
       "      <td>1</td>\n",
       "      <td>1</td>\n",
       "      <td>1</td>\n",
       "      <td>2</td>\n",
       "      <td>0</td>\n",
       "      <td>0</td>\n",
       "      <td>0</td>\n",
       "      <td>...</td>\n",
       "      <td>1</td>\n",
       "      <td>1</td>\n",
       "      <td>0</td>\n",
       "      <td>2</td>\n",
       "      <td>1</td>\n",
       "      <td>1</td>\n",
       "      <td>0</td>\n",
       "      <td>2</td>\n",
       "      <td>0</td>\n",
       "      <td>3</td>\n",
       "    </tr>\n",
       "  </tbody>\n",
       "</table>\n",
       "<p>296 rows × 21 columns</p>\n",
       "</div>"
      ],
      "text/plain": [
       "     Body Size  Body Weight  Height  Bone Structure  Com1lexion  \\\n",
       "0            1            1       1               2           2   \n",
       "1            1            1       0               1           1   \n",
       "2            0            1       1               1           1   \n",
       "3            0            1       0               0           1   \n",
       "4            2            1       0               1           0   \n",
       "..         ...          ...     ...             ...         ...   \n",
       "291          0            1       0               1           2   \n",
       "292          1            1       1               1           1   \n",
       "293          1            1       1               1           1   \n",
       "294          1            1       1               1           1   \n",
       "295          1            1       0               1           1   \n",
       "\n",
       "     General feel of skin  Texture of Skin  Hair Color  A11earance of Hair  \\\n",
       "0                       0                0           0                   1   \n",
       "1                       0                2           1                   0   \n",
       "2                       1                2           0                   0   \n",
       "3                       0                2           0                   1   \n",
       "4                       1                2           0                   0   \n",
       "..                    ...              ...         ...                 ...   \n",
       "291                     1                0           0                   1   \n",
       "292                     1                2           0                   1   \n",
       "293                     1                2           0                   2   \n",
       "294                     1                2           0                   1   \n",
       "295                     1                2           0                   0   \n",
       "\n",
       "     Sha1e of face  ...  Eyelashes  Blinking of Eyes  Cheeks  Nose  \\\n",
       "0                0  ...          1                 1       0     2   \n",
       "1                0  ...          1                 1       1     2   \n",
       "2                0  ...          1                 1       1     2   \n",
       "3                2  ...          0                 1       1     0   \n",
       "4                0  ...          0                 1       0     1   \n",
       "..             ...  ...        ...               ...     ...   ...   \n",
       "291              0  ...          0                 1       0     1   \n",
       "292              2  ...          1                 1       1     0   \n",
       "293              0  ...          1                 1       2     0   \n",
       "294              0  ...          1                 1       2     0   \n",
       "295              0  ...          1                 1       0     2   \n",
       "\n",
       "     Teeth and gums  Li1s  Nails  A11etite  Liking tastes  Dosha  \n",
       "0                 2     0      2         2              0      3  \n",
       "1                 1     0      0         2              0      3  \n",
       "2                 1     1      1         2              0      1  \n",
       "3                 1     1      0         2              0      3  \n",
       "4                 1     1      1         1              1      3  \n",
       "..              ...   ...    ...       ...            ...    ...  \n",
       "291               0     0      0         0              0      0  \n",
       "292               1     1      1         0              0      1  \n",
       "293               1     1      2         2              0      1  \n",
       "294               1     1      2         2              0      1  \n",
       "295               1     1      0         2              0      3  \n",
       "\n",
       "[296 rows x 21 columns]"
      ]
     },
     "execution_count": 7,
     "metadata": {},
     "output_type": "execute_result"
    }
   ],
   "source": [
    "dataset"
   ]
  },
  {
   "cell_type": "code",
   "execution_count": 8,
   "metadata": {},
   "outputs": [
    {
     "data": {
      "text/plain": [
       "array([[1, 1, 1, ..., 2, 2, 0],\n",
       "       [1, 1, 0, ..., 0, 2, 0],\n",
       "       [0, 1, 1, ..., 1, 2, 0],\n",
       "       ...,\n",
       "       [1, 1, 1, ..., 2, 2, 0],\n",
       "       [1, 1, 1, ..., 2, 2, 0],\n",
       "       [1, 1, 0, ..., 0, 2, 0]], dtype=int64)"
      ]
     },
     "execution_count": 8,
     "metadata": {},
     "output_type": "execute_result"
    }
   ],
   "source": [
    "X"
   ]
  },
  {
   "cell_type": "code",
   "execution_count": 9,
   "metadata": {},
   "outputs": [
    {
     "data": {
      "text/plain": [
       "array([3, 3, 1, 3, 3, 3, 1, 3, 1, 3, 3, 2, 3, 3, 2, 0, 1, 2, 3, 0, 1, 3,\n",
       "       3, 3, 5, 4, 3, 4, 3, 0, 3, 0, 5, 3, 3, 0, 0, 3, 3, 3, 0, 2, 0, 3,\n",
       "       4, 3, 0, 0, 1, 1, 2, 3, 0, 3, 3, 3, 0, 0, 5, 1, 0, 0, 3, 5, 3, 3,\n",
       "       3, 3, 3, 3, 3, 3, 0, 0, 0, 0, 0, 3, 1, 3, 3, 3, 0, 3, 2, 3, 3, 3,\n",
       "       3, 3, 3, 0, 1, 1, 1, 3, 3, 3, 4, 3, 3, 3, 1, 3, 3, 3, 1, 3, 1, 3,\n",
       "       3, 2, 3, 3, 2, 0, 1, 2, 3, 0, 1, 3, 3, 3, 5, 4, 3, 4, 3, 0, 3, 0,\n",
       "       5, 3, 3, 0, 0, 3, 3, 3, 0, 2, 0, 3, 4, 3, 0, 0, 1, 1, 2, 3, 0, 3,\n",
       "       3, 3, 0, 0, 5, 1, 0, 0, 3, 5, 3, 3, 3, 3, 3, 3, 3, 3, 0, 0, 0, 0,\n",
       "       0, 3, 1, 3, 3, 3, 0, 3, 2, 3, 3, 3, 3, 3, 3, 0, 1, 1, 1, 3, 3, 3,\n",
       "       4, 3, 3, 3, 1, 3, 3, 3, 1, 3, 1, 3, 3, 2, 3, 3, 2, 0, 1, 2, 3, 0,\n",
       "       1, 3, 3, 3, 5, 4, 3, 4, 3, 0, 3, 0, 5, 3, 3, 0, 0, 3, 3, 3, 0, 2,\n",
       "       0, 3, 4, 3, 0, 0, 1, 1, 2, 3, 0, 3, 3, 3, 0, 0, 5, 1, 0, 0, 3, 5,\n",
       "       3, 3, 3, 3, 3, 3, 3, 3, 0, 0, 0, 0, 0, 3, 1, 3, 3, 3, 0, 3, 2, 3,\n",
       "       3, 3, 3, 3, 3, 0, 1, 1, 1, 3], dtype=int64)"
      ]
     },
     "execution_count": 9,
     "metadata": {},
     "output_type": "execute_result"
    }
   ],
   "source": [
    "Y"
   ]
  },
  {
   "cell_type": "code",
   "execution_count": 10,
   "metadata": {},
   "outputs": [
    {
     "name": "stdout",
     "output_type": "stream",
     "text": [
      "WARNING:tensorflow:From d:\\Code\\Prakriti\\bot\\project\\lib\\site-packages\\keras\\src\\backend.py:873: The name tf.get_default_graph is deprecated. Please use tf.compat.v1.get_default_graph instead.\n",
      "\n"
     ]
    }
   ],
   "source": [
    "model = keras.Sequential([\n",
    "    keras.layers.Dense(19,input_shape=(20,),activation='relu'),\n",
    "    keras.layers.Dense(300,activation='relu'),\n",
    "    keras.layers.Dense(250,activation='relu'),\n",
    "    keras.layers.Dense(200,activation='relu'),\n",
    "    keras.layers.Dense(150,activation='relu'),\n",
    "    keras.layers.Dense(100,activation='relu'),\n",
    "    keras.layers.Dense(50,activation='relu'),\n",
    "    keras.layers.Dense(45,activation='relu'),\n",
    "    keras.layers.Dense(30,activation='relu'),\n",
    "    keras.layers.Dense(20,activation='relu'),\n",
    "    keras.layers.Dense(15,activation='relu'),\n",
    "    keras.layers.Dense(6,activation='sigmoid')    \n",
    "])\n"
   ]
  },
  {
   "cell_type": "code",
   "execution_count": 11,
   "metadata": {},
   "outputs": [
    {
     "name": "stdout",
     "output_type": "stream",
     "text": [
      "WARNING:tensorflow:From d:\\Code\\Prakriti\\bot\\project\\lib\\site-packages\\keras\\src\\optimizers\\__init__.py:309: The name tf.train.Optimizer is deprecated. Please use tf.compat.v1.train.Optimizer instead.\n",
      "\n"
     ]
    }
   ],
   "source": [
    "model.compile(\n",
    "    optimizer='adam',\n",
    "    loss='sparse_categorical_crossentropy',\n",
    "    metrics=['accuracy']\n",
    ")"
   ]
  },
  {
   "cell_type": "code",
   "execution_count": 12,
   "metadata": {},
   "outputs": [
    {
     "name": "stdout",
     "output_type": "stream",
     "text": [
      "Epoch 1/17\n",
      "WARNING:tensorflow:From d:\\Code\\Prakriti\\bot\\project\\lib\\site-packages\\keras\\src\\utils\\tf_utils.py:492: The name tf.ragged.RaggedTensorValue is deprecated. Please use tf.compat.v1.ragged.RaggedTensorValue instead.\n",
      "\n",
      "WARNING:tensorflow:From d:\\Code\\Prakriti\\bot\\project\\lib\\site-packages\\keras\\src\\engine\\base_layer_utils.py:384: The name tf.executing_eagerly_outside_functions is deprecated. Please use tf.compat.v1.executing_eagerly_outside_functions instead.\n",
      "\n",
      "8/8 [==============================] - 2s 4ms/step - loss: 1.7128 - accuracy: 0.4576\n",
      "Epoch 2/17\n",
      "8/8 [==============================] - 0s 4ms/step - loss: 1.4688 - accuracy: 0.5254\n",
      "Epoch 3/17\n",
      "8/8 [==============================] - 0s 4ms/step - loss: 1.3603 - accuracy: 0.5254\n",
      "Epoch 4/17\n",
      "8/8 [==============================] - 0s 4ms/step - loss: 1.2575 - accuracy: 0.5254\n",
      "Epoch 5/17\n",
      "8/8 [==============================] - 0s 4ms/step - loss: 1.1583 - accuracy: 0.5212\n",
      "Epoch 6/17\n",
      "8/8 [==============================] - 0s 3ms/step - loss: 1.0253 - accuracy: 0.5508\n",
      "Epoch 7/17\n",
      "8/8 [==============================] - 0s 4ms/step - loss: 0.9278 - accuracy: 0.5720\n",
      "Epoch 8/17\n",
      "8/8 [==============================] - 0s 6ms/step - loss: 0.7968 - accuracy: 0.6441\n",
      "Epoch 9/17\n",
      "8/8 [==============================] - 0s 4ms/step - loss: 0.6689 - accuracy: 0.7415\n",
      "Epoch 10/17\n",
      "8/8 [==============================] - 0s 3ms/step - loss: 0.5893 - accuracy: 0.7754\n",
      "Epoch 11/17\n",
      "8/8 [==============================] - 0s 3ms/step - loss: 0.4833 - accuracy: 0.8263\n",
      "Epoch 12/17\n",
      "8/8 [==============================] - 0s 4ms/step - loss: 0.4042 - accuracy: 0.8432\n",
      "Epoch 13/17\n",
      "8/8 [==============================] - 0s 3ms/step - loss: 0.3859 - accuracy: 0.8644\n",
      "Epoch 14/17\n",
      "8/8 [==============================] - 0s 3ms/step - loss: 0.3327 - accuracy: 0.8771\n",
      "Epoch 15/17\n",
      "8/8 [==============================] - 0s 3ms/step - loss: 0.3168 - accuracy: 0.8771\n",
      "Epoch 16/17\n",
      "8/8 [==============================] - 0s 8ms/step - loss: 0.3568 - accuracy: 0.8475\n",
      "Epoch 17/17\n",
      "8/8 [==============================] - 0s 3ms/step - loss: 0.4105 - accuracy: 0.8136\n"
     ]
    },
    {
     "data": {
      "text/plain": [
       "<keras.src.callbacks.History at 0x1c215e22020>"
      ]
     },
     "execution_count": 12,
     "metadata": {},
     "output_type": "execute_result"
    }
   ],
   "source": [
    "model.fit(X_train,y_train,epochs=17)"
   ]
  },
  {
   "cell_type": "code",
   "execution_count": 13,
   "metadata": {},
   "outputs": [
    {
     "data": {
      "text/plain": [
       "array([2, 2, 1, 0, 1, 0, 2, 0, 0, 2, 1, 1, 2, 2, 2, 2, 0, 1, 1, 0],\n",
       "      dtype=int64)"
      ]
     },
     "execution_count": 13,
     "metadata": {},
     "output_type": "execute_result"
    }
   ],
   "source": [
    "X_train[0]"
   ]
  },
  {
   "cell_type": "code",
   "execution_count": 14,
   "metadata": {},
   "outputs": [
    {
     "data": {
      "text/plain": [
       "array([[0, 0, 1, ..., 0, 0, 0],\n",
       "       [0, 2, 0, ..., 1, 0, 1],\n",
       "       [2, 2, 1, ..., 0, 2, 0],\n",
       "       ...,\n",
       "       [2, 2, 1, ..., 0, 1, 2],\n",
       "       [0, 0, 2, ..., 0, 0, 2],\n",
       "       [0, 0, 1, ..., 1, 0, 0]], dtype=int64)"
      ]
     },
     "execution_count": 14,
     "metadata": {},
     "output_type": "execute_result"
    }
   ],
   "source": [
    "X_test"
   ]
  },
  {
   "cell_type": "code",
   "execution_count": 15,
   "metadata": {},
   "outputs": [
    {
     "name": "stdout",
     "output_type": "stream",
     "text": [
      "2/2 [==============================] - 0s 5ms/step\n"
     ]
    },
    {
     "data": {
      "text/plain": [
       "array([[1.00000000e+00, 3.17487647e-05, 3.10589621e-06, 9.99917150e-01,\n",
       "        1.22945778e-08, 1.01143194e-09],\n",
       "       [9.95728493e-01, 8.71512294e-01, 1.51189184e-07, 1.00000000e+00,\n",
       "        2.41108328e-10, 7.27519043e-12],\n",
       "       [4.83600467e-01, 8.92050862e-01, 6.52221680e-01, 3.04981858e-01,\n",
       "        2.61953145e-01, 2.45057032e-01],\n",
       "       [9.99998748e-01, 7.59390823e-04, 8.90306546e-05, 9.99116004e-01,\n",
       "        1.48230015e-06, 3.09378237e-07],\n",
       "       [5.06711423e-01, 8.30952466e-01, 1.59658164e-01, 9.52040255e-01,\n",
       "        6.71474189e-02, 3.02612558e-02],\n",
       "       [9.63841736e-01, 2.72843599e-01, 1.90722174e-03, 9.99709487e-01,\n",
       "        1.42211065e-04, 5.39385655e-05],\n",
       "       [9.99997377e-01, 1.46348064e-03, 3.62825231e-05, 9.99829829e-01,\n",
       "        4.77201525e-07, 9.47671737e-08],\n",
       "       [9.99965727e-01, 6.89920038e-03, 1.06502175e-05, 9.99993086e-01,\n",
       "        8.64995684e-08, 1.66873466e-08],\n",
       "       [9.99998748e-01, 7.59390823e-04, 8.90306546e-05, 9.99116004e-01,\n",
       "        1.48230015e-06, 3.09378237e-07],\n",
       "       [6.26003742e-01, 9.30230796e-01, 1.05078211e-02, 9.99520659e-01,\n",
       "        1.20333920e-03, 2.30434438e-04],\n",
       "       [4.62225080e-01, 9.78735685e-01, 3.99599761e-01, 5.57303011e-01,\n",
       "        1.01306543e-01, 4.27817777e-02],\n",
       "       [4.80796218e-01, 6.48775518e-01, 7.07282960e-01, 2.44716913e-01,\n",
       "        4.14293766e-01, 4.56498414e-01],\n",
       "       [9.99999523e-01, 6.06261718e-04, 8.26874111e-06, 9.99953091e-01,\n",
       "        5.99948322e-08, 9.29969524e-09],\n",
       "       [9.99654353e-01, 9.54199284e-02, 2.30166862e-07, 1.00000000e+00,\n",
       "        4.32474112e-10, 3.73202858e-11],\n",
       "       [9.57652867e-01, 3.64838302e-01, 8.20661779e-04, 9.99940932e-01,\n",
       "        4.53641114e-05, 1.38229170e-05],\n",
       "       [9.99999881e-01, 1.34132453e-04, 3.51160270e-05, 9.99370098e-01,\n",
       "        4.69742275e-07, 3.92981754e-08],\n",
       "       [8.26827347e-01, 9.46858525e-01, 6.59042154e-04, 9.99993920e-01,\n",
       "        2.19469384e-05, 2.56247972e-06],\n",
       "       [9.99999642e-01, 5.16950327e-04, 7.90338345e-06, 9.99949753e-01,\n",
       "        5.47381447e-08, 8.51138271e-09],\n",
       "       [9.94625449e-01, 1.14366278e-01, 2.40694033e-04, 9.99961317e-01,\n",
       "        7.22796040e-06, 2.16875310e-06],\n",
       "       [4.74877805e-01, 6.93880379e-01, 7.33315587e-01, 2.31655121e-01,\n",
       "        3.95537138e-01, 4.75443274e-01],\n",
       "       [9.03612077e-01, 6.15317523e-01, 2.04724423e-03, 9.99895930e-01,\n",
       "        1.61098025e-04, 4.56138514e-05],\n",
       "       [9.21670258e-01, 8.60636830e-01, 3.01568536e-04, 9.99997139e-01,\n",
       "        9.01278327e-06, 1.18475862e-06],\n",
       "       [4.83947337e-01, 7.94653177e-01, 5.82660496e-01, 3.93645644e-01,\n",
       "        3.35772157e-01, 3.16600114e-01],\n",
       "       [4.48827058e-01, 9.93428886e-01, 1.71022549e-01, 8.66935194e-01,\n",
       "        2.61770058e-02, 5.55674266e-03],\n",
       "       [9.98983085e-01, 9.66813624e-01, 9.88386595e-10, 1.00000000e+00,\n",
       "        1.89672768e-13, 1.38832014e-15],\n",
       "       [9.94097769e-01, 8.71302068e-01, 3.18450702e-07, 1.00000000e+00,\n",
       "        6.99981295e-10, 2.45827993e-11],\n",
       "       [9.55494225e-01, 9.49352980e-01, 2.37036802e-05, 9.99999940e-01,\n",
       "        1.96374117e-07, 1.18643557e-08],\n",
       "       [9.99628425e-01, 1.15688428e-01, 1.44938696e-07, 1.00000000e+00,\n",
       "        2.34352121e-10, 1.79670220e-11],\n",
       "       [8.63602817e-01, 8.45066011e-01, 1.59385835e-03, 9.99966145e-01,\n",
       "        9.06607602e-05, 1.71635274e-05],\n",
       "       [9.33025181e-01, 7.84519017e-01, 2.94934347e-04, 9.99996185e-01,\n",
       "        1.04366081e-05, 1.56132523e-06],\n",
       "       [4.48826998e-01, 9.93428946e-01, 1.71022326e-01, 8.66935194e-01,\n",
       "        2.61769984e-02, 5.55673754e-03],\n",
       "       [9.97595131e-01, 1.18573755e-01, 2.81537941e-05, 9.99998212e-01,\n",
       "        3.71878230e-07, 7.45576187e-08],\n",
       "       [9.96357501e-01, 8.51903185e-02, 2.15569438e-04, 9.99955416e-01,\n",
       "        6.08684513e-06, 1.87884268e-06],\n",
       "       [4.91841555e-01, 8.29157531e-01, 7.44913578e-01, 2.11024791e-01,\n",
       "        3.42607796e-01, 4.00835872e-01],\n",
       "       [9.97913897e-01, 1.18959725e-01, 2.25408457e-05, 9.99998689e-01,\n",
       "        2.68538344e-07, 5.13275609e-08],\n",
       "       [9.99998093e-01, 1.26401731e-03, 2.26651337e-05, 9.99898493e-01,\n",
       "        2.51164408e-07, 4.65278411e-08],\n",
       "       [9.99998748e-01, 7.59390823e-04, 8.90306546e-05, 9.99116004e-01,\n",
       "        1.48230015e-06, 3.09378237e-07],\n",
       "       [9.99998391e-01, 8.23229610e-04, 1.10112036e-04, 9.98937190e-01,\n",
       "        2.02886281e-06, 4.21087094e-07],\n",
       "       [9.86165881e-01, 4.50450510e-01, 3.18191778e-05, 9.99999583e-01,\n",
       "        4.85356566e-07, 7.22810896e-08],\n",
       "       [5.33971846e-01, 8.39074790e-01, 8.95735398e-02, 9.83000934e-01,\n",
       "        2.91703641e-02, 1.10142147e-02],\n",
       "       [9.59061682e-01, 6.42600715e-01, 1.93058120e-04, 9.99996722e-01,\n",
       "        5.77368201e-06, 1.00943691e-06],\n",
       "       [9.85387743e-01, 1.95241615e-01, 6.23162894e-04, 9.99912977e-01,\n",
       "        2.89129548e-05, 9.41413509e-06],\n",
       "       [9.99965727e-01, 6.89920038e-03, 1.06502175e-05, 9.99993086e-01,\n",
       "        8.64995684e-08, 1.66873466e-08],\n",
       "       [4.80796218e-01, 6.48775518e-01, 7.07282960e-01, 2.44716913e-01,\n",
       "        4.14293766e-01, 4.56498414e-01],\n",
       "       [4.89620507e-01, 9.18012202e-01, 1.41236454e-01, 9.55594718e-01,\n",
       "        4.50523756e-02, 1.66813638e-02],\n",
       "       [8.02668631e-01, 9.16809618e-01, 1.75274455e-03, 9.99969959e-01,\n",
       "        9.10764284e-05, 1.46284265e-05],\n",
       "       [4.76179600e-01, 6.89945698e-01, 7.35455990e-01, 2.25167155e-01,\n",
       "        3.96177709e-01, 4.69710350e-01],\n",
       "       [9.99965727e-01, 6.89920038e-03, 1.06502175e-05, 9.99993086e-01,\n",
       "        8.64995684e-08, 1.66873466e-08],\n",
       "       [4.63300169e-01, 9.93169129e-01, 6.19668961e-02, 9.82770801e-01,\n",
       "        7.31938239e-03, 1.18941942e-03],\n",
       "       [9.99813735e-01, 9.33155231e-03, 3.70187289e-03, 9.83437002e-01,\n",
       "        3.47800436e-04, 1.00064964e-04],\n",
       "       [9.62394118e-01, 7.95774460e-01, 6.50547154e-05, 9.99999583e-01,\n",
       "        1.24090138e-06, 1.37955155e-07],\n",
       "       [9.99993443e-01, 2.09093606e-03, 1.70998770e-04, 9.98946130e-01,\n",
       "        3.91206322e-06, 1.01401588e-06],\n",
       "       [9.99174654e-01, 7.51088485e-02, 6.13297607e-06, 9.99999702e-01,\n",
       "        4.19164721e-08, 6.84665746e-09],\n",
       "       [9.96357501e-01, 8.51903185e-02, 2.15569438e-04, 9.99955416e-01,\n",
       "        6.08684513e-06, 1.87884268e-06],\n",
       "       [8.26827347e-01, 9.46858525e-01, 6.59042154e-04, 9.99993920e-01,\n",
       "        2.19469384e-05, 2.56247972e-06],\n",
       "       [4.75749701e-01, 6.36246681e-01, 6.58033013e-01, 3.15814257e-01,\n",
       "        4.27480251e-01, 4.84554619e-01],\n",
       "       [9.99998331e-01, 7.31080712e-04, 1.40525677e-04, 9.98614788e-01,\n",
       "        2.93381959e-06, 5.20865058e-07],\n",
       "       [4.81690973e-01, 6.37274742e-01, 6.85323596e-01, 2.73877770e-01,\n",
       "        4.23309624e-01, 4.67714489e-01],\n",
       "       [4.75749701e-01, 6.36246681e-01, 6.58033013e-01, 3.15814257e-01,\n",
       "        4.27480251e-01, 4.84554619e-01],\n",
       "       [9.97913897e-01, 1.18959725e-01, 2.25408457e-05, 9.99998689e-01,\n",
       "        2.68538344e-07, 5.13275609e-08]], dtype=float32)"
      ]
     },
     "execution_count": 15,
     "metadata": {},
     "output_type": "execute_result"
    }
   ],
   "source": [
    "model.predict(X_test)"
   ]
  },
  {
   "cell_type": "code",
   "execution_count": 16,
   "metadata": {},
   "outputs": [
    {
     "name": "stdout",
     "output_type": "stream",
     "text": [
      "1/1 [==============================] - 0s 119ms/step\n"
     ]
    },
    {
     "data": {
      "text/plain": [
       "3"
      ]
     },
     "execution_count": 16,
     "metadata": {},
     "output_type": "execute_result"
    }
   ],
   "source": [
    "np.argmax(model.predict([[2,1,2,2,1,0,2,0,1,0,1,1,1,1,2,1,1,0,0,0]]))"
   ]
  },
  {
   "cell_type": "code",
   "execution_count": 17,
   "metadata": {},
   "outputs": [],
   "source": [
    "from sklearn.metrics import classification_report,accuracy_score,confusion_matrix,precision_score,recall_score"
   ]
  },
  {
   "cell_type": "code",
   "execution_count": 18,
   "metadata": {},
   "outputs": [
    {
     "name": "stdout",
     "output_type": "stream",
     "text": [
      "2/2 [==============================] - 0s 5ms/step\n"
     ]
    }
   ],
   "source": [
    "Y_pred=model.predict(X_test)"
   ]
  },
  {
   "cell_type": "code",
   "execution_count": 19,
   "metadata": {},
   "outputs": [
    {
     "data": {
      "text/plain": [
       "array([[1.00000000e+00, 3.17487647e-05, 3.10589621e-06, 9.99917150e-01,\n",
       "        1.22945778e-08, 1.01143194e-09],\n",
       "       [9.95728493e-01, 8.71512294e-01, 1.51189184e-07, 1.00000000e+00,\n",
       "        2.41108328e-10, 7.27519043e-12],\n",
       "       [4.83600467e-01, 8.92050862e-01, 6.52221680e-01, 3.04981858e-01,\n",
       "        2.61953145e-01, 2.45057032e-01],\n",
       "       [9.99998748e-01, 7.59390823e-04, 8.90306546e-05, 9.99116004e-01,\n",
       "        1.48230015e-06, 3.09378237e-07],\n",
       "       [5.06711423e-01, 8.30952466e-01, 1.59658164e-01, 9.52040255e-01,\n",
       "        6.71474189e-02, 3.02612558e-02],\n",
       "       [9.63841736e-01, 2.72843599e-01, 1.90722174e-03, 9.99709487e-01,\n",
       "        1.42211065e-04, 5.39385655e-05],\n",
       "       [9.99997377e-01, 1.46348064e-03, 3.62825231e-05, 9.99829829e-01,\n",
       "        4.77201525e-07, 9.47671737e-08],\n",
       "       [9.99965727e-01, 6.89920038e-03, 1.06502175e-05, 9.99993086e-01,\n",
       "        8.64995684e-08, 1.66873466e-08],\n",
       "       [9.99998748e-01, 7.59390823e-04, 8.90306546e-05, 9.99116004e-01,\n",
       "        1.48230015e-06, 3.09378237e-07],\n",
       "       [6.26003742e-01, 9.30230796e-01, 1.05078211e-02, 9.99520659e-01,\n",
       "        1.20333920e-03, 2.30434438e-04],\n",
       "       [4.62225080e-01, 9.78735685e-01, 3.99599761e-01, 5.57303011e-01,\n",
       "        1.01306543e-01, 4.27817777e-02],\n",
       "       [4.80796218e-01, 6.48775518e-01, 7.07282960e-01, 2.44716913e-01,\n",
       "        4.14293766e-01, 4.56498414e-01],\n",
       "       [9.99999523e-01, 6.06261718e-04, 8.26874111e-06, 9.99953091e-01,\n",
       "        5.99948322e-08, 9.29969524e-09],\n",
       "       [9.99654353e-01, 9.54199284e-02, 2.30166862e-07, 1.00000000e+00,\n",
       "        4.32474112e-10, 3.73202858e-11],\n",
       "       [9.57652867e-01, 3.64838302e-01, 8.20661779e-04, 9.99940932e-01,\n",
       "        4.53641114e-05, 1.38229170e-05],\n",
       "       [9.99999881e-01, 1.34132453e-04, 3.51160270e-05, 9.99370098e-01,\n",
       "        4.69742275e-07, 3.92981754e-08],\n",
       "       [8.26827347e-01, 9.46858525e-01, 6.59042154e-04, 9.99993920e-01,\n",
       "        2.19469384e-05, 2.56247972e-06],\n",
       "       [9.99999642e-01, 5.16950327e-04, 7.90338345e-06, 9.99949753e-01,\n",
       "        5.47381447e-08, 8.51138271e-09],\n",
       "       [9.94625449e-01, 1.14366278e-01, 2.40694033e-04, 9.99961317e-01,\n",
       "        7.22796040e-06, 2.16875310e-06],\n",
       "       [4.74877805e-01, 6.93880379e-01, 7.33315587e-01, 2.31655121e-01,\n",
       "        3.95537138e-01, 4.75443274e-01],\n",
       "       [9.03612077e-01, 6.15317523e-01, 2.04724423e-03, 9.99895930e-01,\n",
       "        1.61098025e-04, 4.56138514e-05],\n",
       "       [9.21670258e-01, 8.60636830e-01, 3.01568536e-04, 9.99997139e-01,\n",
       "        9.01278327e-06, 1.18475862e-06],\n",
       "       [4.83947337e-01, 7.94653177e-01, 5.82660496e-01, 3.93645644e-01,\n",
       "        3.35772157e-01, 3.16600114e-01],\n",
       "       [4.48827058e-01, 9.93428886e-01, 1.71022549e-01, 8.66935194e-01,\n",
       "        2.61770058e-02, 5.55674266e-03],\n",
       "       [9.98983085e-01, 9.66813624e-01, 9.88386595e-10, 1.00000000e+00,\n",
       "        1.89672768e-13, 1.38832014e-15],\n",
       "       [9.94097769e-01, 8.71302068e-01, 3.18450702e-07, 1.00000000e+00,\n",
       "        6.99981295e-10, 2.45827993e-11],\n",
       "       [9.55494225e-01, 9.49352980e-01, 2.37036802e-05, 9.99999940e-01,\n",
       "        1.96374117e-07, 1.18643557e-08],\n",
       "       [9.99628425e-01, 1.15688428e-01, 1.44938696e-07, 1.00000000e+00,\n",
       "        2.34352121e-10, 1.79670220e-11],\n",
       "       [8.63602817e-01, 8.45066011e-01, 1.59385835e-03, 9.99966145e-01,\n",
       "        9.06607602e-05, 1.71635274e-05],\n",
       "       [9.33025181e-01, 7.84519017e-01, 2.94934347e-04, 9.99996185e-01,\n",
       "        1.04366081e-05, 1.56132523e-06],\n",
       "       [4.48826998e-01, 9.93428946e-01, 1.71022326e-01, 8.66935194e-01,\n",
       "        2.61769984e-02, 5.55673754e-03],\n",
       "       [9.97595131e-01, 1.18573755e-01, 2.81537941e-05, 9.99998212e-01,\n",
       "        3.71878230e-07, 7.45576187e-08],\n",
       "       [9.96357501e-01, 8.51903185e-02, 2.15569438e-04, 9.99955416e-01,\n",
       "        6.08684513e-06, 1.87884268e-06],\n",
       "       [4.91841555e-01, 8.29157531e-01, 7.44913578e-01, 2.11024791e-01,\n",
       "        3.42607796e-01, 4.00835872e-01],\n",
       "       [9.97913897e-01, 1.18959725e-01, 2.25408457e-05, 9.99998689e-01,\n",
       "        2.68538344e-07, 5.13275609e-08],\n",
       "       [9.99998093e-01, 1.26401731e-03, 2.26651337e-05, 9.99898493e-01,\n",
       "        2.51164408e-07, 4.65278411e-08],\n",
       "       [9.99998748e-01, 7.59390823e-04, 8.90306546e-05, 9.99116004e-01,\n",
       "        1.48230015e-06, 3.09378237e-07],\n",
       "       [9.99998391e-01, 8.23229610e-04, 1.10112036e-04, 9.98937190e-01,\n",
       "        2.02886281e-06, 4.21087094e-07],\n",
       "       [9.86165881e-01, 4.50450510e-01, 3.18191778e-05, 9.99999583e-01,\n",
       "        4.85356566e-07, 7.22810896e-08],\n",
       "       [5.33971846e-01, 8.39074790e-01, 8.95735398e-02, 9.83000934e-01,\n",
       "        2.91703641e-02, 1.10142147e-02],\n",
       "       [9.59061682e-01, 6.42600715e-01, 1.93058120e-04, 9.99996722e-01,\n",
       "        5.77368201e-06, 1.00943691e-06],\n",
       "       [9.85387743e-01, 1.95241615e-01, 6.23162894e-04, 9.99912977e-01,\n",
       "        2.89129548e-05, 9.41413509e-06],\n",
       "       [9.99965727e-01, 6.89920038e-03, 1.06502175e-05, 9.99993086e-01,\n",
       "        8.64995684e-08, 1.66873466e-08],\n",
       "       [4.80796218e-01, 6.48775518e-01, 7.07282960e-01, 2.44716913e-01,\n",
       "        4.14293766e-01, 4.56498414e-01],\n",
       "       [4.89620507e-01, 9.18012202e-01, 1.41236454e-01, 9.55594718e-01,\n",
       "        4.50523756e-02, 1.66813638e-02],\n",
       "       [8.02668631e-01, 9.16809618e-01, 1.75274455e-03, 9.99969959e-01,\n",
       "        9.10764284e-05, 1.46284265e-05],\n",
       "       [4.76179600e-01, 6.89945698e-01, 7.35455990e-01, 2.25167155e-01,\n",
       "        3.96177709e-01, 4.69710350e-01],\n",
       "       [9.99965727e-01, 6.89920038e-03, 1.06502175e-05, 9.99993086e-01,\n",
       "        8.64995684e-08, 1.66873466e-08],\n",
       "       [4.63300169e-01, 9.93169129e-01, 6.19668961e-02, 9.82770801e-01,\n",
       "        7.31938239e-03, 1.18941942e-03],\n",
       "       [9.99813735e-01, 9.33155231e-03, 3.70187289e-03, 9.83437002e-01,\n",
       "        3.47800436e-04, 1.00064964e-04],\n",
       "       [9.62394118e-01, 7.95774460e-01, 6.50547154e-05, 9.99999583e-01,\n",
       "        1.24090138e-06, 1.37955155e-07],\n",
       "       [9.99993443e-01, 2.09093606e-03, 1.70998770e-04, 9.98946130e-01,\n",
       "        3.91206322e-06, 1.01401588e-06],\n",
       "       [9.99174654e-01, 7.51088485e-02, 6.13297607e-06, 9.99999702e-01,\n",
       "        4.19164721e-08, 6.84665746e-09],\n",
       "       [9.96357501e-01, 8.51903185e-02, 2.15569438e-04, 9.99955416e-01,\n",
       "        6.08684513e-06, 1.87884268e-06],\n",
       "       [8.26827347e-01, 9.46858525e-01, 6.59042154e-04, 9.99993920e-01,\n",
       "        2.19469384e-05, 2.56247972e-06],\n",
       "       [4.75749701e-01, 6.36246681e-01, 6.58033013e-01, 3.15814257e-01,\n",
       "        4.27480251e-01, 4.84554619e-01],\n",
       "       [9.99998331e-01, 7.31080712e-04, 1.40525677e-04, 9.98614788e-01,\n",
       "        2.93381959e-06, 5.20865058e-07],\n",
       "       [4.81690973e-01, 6.37274742e-01, 6.85323596e-01, 2.73877770e-01,\n",
       "        4.23309624e-01, 4.67714489e-01],\n",
       "       [4.75749701e-01, 6.36246681e-01, 6.58033013e-01, 3.15814257e-01,\n",
       "        4.27480251e-01, 4.84554619e-01],\n",
       "       [9.97913897e-01, 1.18959725e-01, 2.25408457e-05, 9.99998689e-01,\n",
       "        2.68538344e-07, 5.13275609e-08]], dtype=float32)"
      ]
     },
     "execution_count": 19,
     "metadata": {},
     "output_type": "execute_result"
    }
   ],
   "source": [
    "Y_pred"
   ]
  },
  {
   "cell_type": "code",
   "execution_count": 20,
   "metadata": {},
   "outputs": [],
   "source": [
    "target=[\"Vata\",\"Pitta\",\"Kapha\",\"vata+pitta\",\"vata+kapha\",\"pitta+kapha\"]"
   ]
  },
  {
   "cell_type": "code",
   "execution_count": 21,
   "metadata": {},
   "outputs": [
    {
     "data": {
      "text/plain": [
       "[0,\n",
       " 3,\n",
       " 1,\n",
       " 0,\n",
       " 3,\n",
       " 3,\n",
       " 0,\n",
       " 3,\n",
       " 0,\n",
       " 3,\n",
       " 1,\n",
       " 2,\n",
       " 0,\n",
       " 3,\n",
       " 3,\n",
       " 0,\n",
       " 3,\n",
       " 0,\n",
       " 3,\n",
       " 2,\n",
       " 3,\n",
       " 3,\n",
       " 1,\n",
       " 1,\n",
       " 3,\n",
       " 3,\n",
       " 3,\n",
       " 3,\n",
       " 3,\n",
       " 3,\n",
       " 1,\n",
       " 3,\n",
       " 3,\n",
       " 1,\n",
       " 3,\n",
       " 0,\n",
       " 0,\n",
       " 0,\n",
       " 3,\n",
       " 3,\n",
       " 3,\n",
       " 3,\n",
       " 3,\n",
       " 2,\n",
       " 3,\n",
       " 3,\n",
       " 2,\n",
       " 3,\n",
       " 1,\n",
       " 0,\n",
       " 3,\n",
       " 0,\n",
       " 3,\n",
       " 3,\n",
       " 3,\n",
       " 2,\n",
       " 0,\n",
       " 2,\n",
       " 2,\n",
       " 3]"
      ]
     },
     "execution_count": 21,
     "metadata": {},
     "output_type": "execute_result"
    }
   ],
   "source": [
    "y_predict_labels = [np.argmax(i) for i in Y_pred]\n",
    "y_predict_labels"
   ]
  },
  {
   "cell_type": "code",
   "execution_count": 22,
   "metadata": {},
   "outputs": [
    {
     "data": {
      "text/plain": [
       "['Vata',\n",
       " 'vata+pitta',\n",
       " 'Pitta',\n",
       " 'Vata',\n",
       " 'vata+pitta',\n",
       " 'vata+pitta',\n",
       " 'Vata',\n",
       " 'vata+pitta',\n",
       " 'Vata',\n",
       " 'vata+pitta',\n",
       " 'Pitta',\n",
       " 'Kapha',\n",
       " 'Vata',\n",
       " 'vata+pitta',\n",
       " 'vata+pitta',\n",
       " 'Vata',\n",
       " 'vata+pitta',\n",
       " 'Vata',\n",
       " 'vata+pitta',\n",
       " 'Kapha',\n",
       " 'vata+pitta',\n",
       " 'vata+pitta',\n",
       " 'Pitta',\n",
       " 'Pitta',\n",
       " 'vata+pitta',\n",
       " 'vata+pitta',\n",
       " 'vata+pitta',\n",
       " 'vata+pitta',\n",
       " 'vata+pitta',\n",
       " 'vata+pitta',\n",
       " 'Pitta',\n",
       " 'vata+pitta',\n",
       " 'vata+pitta',\n",
       " 'Pitta',\n",
       " 'vata+pitta',\n",
       " 'Vata',\n",
       " 'Vata',\n",
       " 'Vata',\n",
       " 'vata+pitta',\n",
       " 'vata+pitta',\n",
       " 'vata+pitta',\n",
       " 'vata+pitta',\n",
       " 'vata+pitta',\n",
       " 'Kapha',\n",
       " 'vata+pitta',\n",
       " 'vata+pitta',\n",
       " 'Kapha',\n",
       " 'vata+pitta',\n",
       " 'Pitta',\n",
       " 'Vata',\n",
       " 'vata+pitta',\n",
       " 'Vata',\n",
       " 'vata+pitta',\n",
       " 'vata+pitta',\n",
       " 'vata+pitta',\n",
       " 'Kapha',\n",
       " 'Vata',\n",
       " 'Kapha',\n",
       " 'Kapha',\n",
       " 'vata+pitta']"
      ]
     },
     "execution_count": 22,
     "metadata": {},
     "output_type": "execute_result"
    }
   ],
   "source": [
    "outputs=[target[i] for i in y_predict_labels]\n",
    "outputs"
   ]
  },
  {
   "cell_type": "code",
   "execution_count": 23,
   "metadata": {},
   "outputs": [
    {
     "name": "stdout",
     "output_type": "stream",
     "text": [
      "              precision    recall  f1-score   support\n",
      "\n",
      "           0       1.00      0.87      0.93        15\n",
      "           1       0.71      0.62      0.67         8\n",
      "           2       0.29      0.67      0.40         3\n",
      "           3       0.88      1.00      0.94        29\n",
      "           4       0.00      0.00      0.00         2\n",
      "           5       0.00      0.00      0.00         3\n",
      "\n",
      "    accuracy                           0.82        60\n",
      "   macro avg       0.48      0.53      0.49        60\n",
      "weighted avg       0.78      0.82      0.79        60\n",
      "\n"
     ]
    },
    {
     "name": "stderr",
     "output_type": "stream",
     "text": [
      "d:\\Code\\Prakriti\\bot\\project\\lib\\site-packages\\sklearn\\metrics\\_classification.py:1497: UndefinedMetricWarning: Precision is ill-defined and being set to 0.0 in labels with no predicted samples. Use `zero_division` parameter to control this behavior.\n",
      "  _warn_prf(average, modifier, f\"{metric.capitalize()} is\", len(result))\n",
      "d:\\Code\\Prakriti\\bot\\project\\lib\\site-packages\\sklearn\\metrics\\_classification.py:1497: UndefinedMetricWarning: Precision is ill-defined and being set to 0.0 in labels with no predicted samples. Use `zero_division` parameter to control this behavior.\n",
      "  _warn_prf(average, modifier, f\"{metric.capitalize()} is\", len(result))\n",
      "d:\\Code\\Prakriti\\bot\\project\\lib\\site-packages\\sklearn\\metrics\\_classification.py:1497: UndefinedMetricWarning: Precision is ill-defined and being set to 0.0 in labels with no predicted samples. Use `zero_division` parameter to control this behavior.\n",
      "  _warn_prf(average, modifier, f\"{metric.capitalize()} is\", len(result))\n"
     ]
    }
   ],
   "source": [
    "print(classification_report(y_test,y_predict_labels))"
   ]
  },
  {
   "cell_type": "code",
   "execution_count": 24,
   "metadata": {},
   "outputs": [
    {
     "name": "stdout",
     "output_type": "stream",
     "text": [
      "[[13  1  0  1  0  0]\n",
      " [ 0  5  0  3  0  0]\n",
      " [ 0  1  2  0  0  0]\n",
      " [ 0  0  0 29  0  0]\n",
      " [ 0  0  2  0  0  0]\n",
      " [ 0  0  3  0  0  0]]\n"
     ]
    }
   ],
   "source": [
    "print(confusion_matrix(y_test,y_predict_labels))"
   ]
  },
  {
   "cell_type": "code",
   "execution_count": 25,
   "metadata": {},
   "outputs": [
    {
     "name": "stdout",
     "output_type": "stream",
     "text": [
      "81.66666666666667\n"
     ]
    }
   ],
   "source": [
    "print(accuracy_score(y_test,y_predict_labels)*100)"
   ]
  },
  {
   "cell_type": "code",
   "execution_count": 26,
   "metadata": {},
   "outputs": [],
   "source": [
    "cm = tf.math.confusion_matrix(labels=y_test,predictions=y_predict_labels)"
   ]
  },
  {
   "cell_type": "code",
   "execution_count": 27,
   "metadata": {},
   "outputs": [
    {
     "data": {
      "text/plain": [
       "<tf.Tensor: shape=(6, 6), dtype=int32, numpy=\n",
       "array([[13,  1,  0,  1,  0,  0],\n",
       "       [ 0,  5,  0,  3,  0,  0],\n",
       "       [ 0,  1,  2,  0,  0,  0],\n",
       "       [ 0,  0,  0, 29,  0,  0],\n",
       "       [ 0,  0,  2,  0,  0,  0],\n",
       "       [ 0,  0,  3,  0,  0,  0]])>"
      ]
     },
     "execution_count": 27,
     "metadata": {},
     "output_type": "execute_result"
    }
   ],
   "source": [
    "cm"
   ]
  },
  {
   "cell_type": "code",
   "execution_count": 28,
   "metadata": {},
   "outputs": [],
   "source": [
    "import seaborn as sns\n",
    "import matplotlib.pyplot as plt\n"
   ]
  },
  {
   "cell_type": "code",
   "execution_count": 29,
   "metadata": {},
   "outputs": [
    {
     "data": {
      "text/plain": [
       "[]"
      ]
     },
     "execution_count": 29,
     "metadata": {},
     "output_type": "execute_result"
    },
    {
     "data": {
      "image/png": "[encoded data removed]",
      "text/plain": [
       "<Figure size 640x480 with 1 Axes>"
      ]
     },
     "metadata": {},
     "output_type": "display_data"
    }
   ],
   "source": [
    "sns.heatmap(cm,annot=True,fmt='d',xticklabels=target,yticklabels=target,cbar=False,cmap=\"BuGn\")\n",
    "plt.xlabel(\"Predicted\")\n",
    "plt.ylabel(\"Actual\")\n",
    "plt.plot()"
   ]
  },
  {
   "cell_type": "code",
   "execution_count": 30,
   "metadata": {},
   "outputs": [
    {
     "name": "stdout",
     "output_type": "stream",
     "text": [
      "0.8166666666666667\n"
     ]
    }
   ],
   "source": [
    "print(recall_score(y_test,y_predict_labels,average=\"weighted\"))"
   ]
  },
  {
   "cell_type": "code",
   "execution_count": 31,
   "metadata": {},
   "outputs": [
    {
     "name": "stdout",
     "output_type": "stream",
     "text": [
      "0.7842712842712842\n"
     ]
    },
    {
     "name": "stderr",
     "output_type": "stream",
     "text": [
      "d:\\Code\\Prakriti\\bot\\project\\lib\\site-packages\\sklearn\\metrics\\_classification.py:1497: UndefinedMetricWarning: Precision is ill-defined and being set to 0.0 in labels with no predicted samples. Use `zero_division` parameter to control this behavior.\n",
      "  _warn_prf(average, modifier, f\"{metric.capitalize()} is\", len(result))\n"
     ]
    }
   ],
   "source": [
    "print(precision_score(y_test,y_predict_labels,average=\"weighted\"))"
   ]
  },
  {
   "cell_type": "code",
   "execution_count": 32,
   "metadata": {},
   "outputs": [
    {
     "name": "stdout",
     "output_type": "stream",
     "text": [
      "0.7931822836661546\n"
     ]
    }
   ],
   "source": [
    "from sklearn.metrics import f1_score\n",
    "\n",
    "\n",
    "print(f1_score(y_test,y_predict_labels,average=\"weighted\"))"
   ]
  },
  {
   "cell_type": "code",
   "execution_count": 33,
   "metadata": {},
   "outputs": [
    {
     "data": {
      "text/plain": [
       "['Vata', 'Pitta', 'Kapha', 'vata+pitta', 'vata+kapha', 'pitta+kapha']"
      ]
     },
     "execution_count": 33,
     "metadata": {},
     "output_type": "execute_result"
    }
   ],
   "source": [
    "target"
   ]
  },
  {
   "cell_type": "code",
   "execution_count": 34,
   "metadata": {},
   "outputs": [
    {
     "data": {
      "text/plain": [
       "array([0, 0, 1, 0, 1, 1, 1, 0, 0, 0, 2, 1, 0, 0, 1, 0, 0, 0, 0, 0],\n",
       "      dtype=int64)"
      ]
     },
     "execution_count": 34,
     "metadata": {},
     "output_type": "execute_result"
    }
   ],
   "source": [
    "X_test[0]"
   ]
  },
  {
   "cell_type": "code",
   "execution_count": 35,
   "metadata": {},
   "outputs": [
    {
     "name": "stdout",
     "output_type": "stream",
     "text": [
      "[[0 2 0 1 0 1 1 0 1 2 0 0 1 1 0 1 0 1 0 1]]\n"
     ]
    }
   ],
   "source": [
    "checking_values=np.array(X_test[1],ndmin=2)\n",
    "print(checking_values)"
   ]
  },
  {
   "cell_type": "code",
   "execution_count": 36,
   "metadata": {},
   "outputs": [
    {
     "name": "stdout",
     "output_type": "stream",
     "text": [
      "1/1 [==============================] - 0s 26ms/step\n"
     ]
    },
    {
     "data": {
      "text/plain": [
       "3"
      ]
     },
     "execution_count": 36,
     "metadata": {},
     "output_type": "execute_result"
    }
   ],
   "source": [
    "np.argmax(model.predict(checking_values))"
   ]
  },
  {
   "cell_type": "code",
   "execution_count": 37,
   "metadata": {},
   "outputs": [
    {
     "name": "stdout",
     "output_type": "stream",
     "text": [
      "1/1 [==============================] - 0s 28ms/step\n",
      "[[9.9572849e-01 8.7151188e-01 1.5118918e-07 1.0000000e+00 2.4110738e-10\n",
      "  7.2751766e-12]]\n"
     ]
    }
   ],
   "source": [
    "Predicted_data=model.predict(checking_values)\n",
    "print(Predicted_data)"
   ]
  },
  {
   "cell_type": "code",
   "execution_count": 38,
   "metadata": {},
   "outputs": [
    {
     "name": "stdout",
     "output_type": "stream",
     "text": [
      "1/1 [==============================] - 0s 21ms/step\n",
      "3\n"
     ]
    }
   ],
   "source": [
    "Actual_class=np.argmax(model.predict(checking_values))\n",
    "print(Actual_class)"
   ]
  },
  {
   "cell_type": "code",
   "execution_count": 39,
   "metadata": {},
   "outputs": [
    {
     "name": "stdout",
     "output_type": "stream",
     "text": [
      "[[99.57284927368164, 87.15118765830994, 1.5118918383905111e-05, 100.0, 2.411073840580258e-08, 7.275176554938367e-10]]\n"
     ]
    }
   ],
   "source": [
    "prakruti_percentages = []\n",
    "for probs in Predicted_data:\n",
    "    percentages = [prob * 100 for prob in probs]\n",
    "    prakruti_percentages.append(percentages)\n",
    "print(prakruti_percentages)"
   ]
  },
  {
   "cell_type": "code",
   "execution_count": 40,
   "metadata": {},
   "outputs": [
    {
     "name": "stdout",
     "output_type": "stream",
     "text": [
      "Sample 1 Prakruti Percentages:\n",
      "Vata: 99.57%\n",
      "Pitta: 87.15%\n",
      "Kapha: 0.00%\n",
      "vata+pitta: 100.00%\n",
      "vata+kapha: 0.00%\n",
      "pitta+kapha: 0.00%\n"
     ]
    }
   ],
   "source": [
    "# Print the results\n",
    "for i, percentages in enumerate(prakruti_percentages):\n",
    "    print(\"Sample\", i+1, \"Prakruti Percentages:\")\n",
    "    for j, prakruti_type in enumerate(target):\n",
    "        print(prakruti_type + \":\", \"{:.2f}%\".format(percentages[j]))"
   ]
  },
  {
   "cell_type": "code",
   "execution_count": 41,
   "metadata": {},
   "outputs": [
    {
     "data": {
      "text/plain": [
       "[[99.57284927368164,\n",
       "  87.15118765830994,\n",
       "  1.5118918383905111e-05,\n",
       "  100.0,\n",
       "  2.411073840580258e-08,\n",
       "  7.275176554938367e-10]]"
      ]
     },
     "execution_count": 41,
     "metadata": {},
     "output_type": "execute_result"
    }
   ],
   "source": [
    "prakruti_percentages"
   ]
  },
  {
   "cell_type": "code",
   "execution_count": 42,
   "metadata": {},
   "outputs": [],
   "source": [
    "probs=prakruti_percentages\n",
    "    "
   ]
  },
  {
   "cell_type": "code",
   "execution_count": 43,
   "metadata": {},
   "outputs": [
    {
     "data": {
      "text/plain": [
       "array([[9.95728493e+01, 8.71511877e+01, 1.51189184e-05, 1.00000000e+02,\n",
       "        2.41107384e-08, 7.27517655e-10]])"
      ]
     },
     "execution_count": 43,
     "metadata": {},
     "output_type": "execute_result"
    }
   ],
   "source": [
    "prakruti_percentages=np.array(prakruti_percentages)\n",
    "prakruti_percentages\n",
    "    "
   ]
  },
  {
   "cell_type": "code",
   "execution_count": 44,
   "metadata": {},
   "outputs": [
    {
     "name": "stdout",
     "output_type": "stream",
     "text": [
      "vata+pitta => 100.0\n",
      "Vata => 87.15118765830994\n"
     ]
    }
   ],
   "source": [
    "for i in range(2):\n",
    "    index = np.argmax(prakruti_percentages[0])\n",
    "    maximum = np.max(prakruti_percentages[0])\n",
    "    print(target[index], \"=>\", maximum)\n",
    "    prakruti_percentages = np.delete(prakruti_percentages, (0, index))"
   ]
  },
  {
   "cell_type": "code",
   "execution_count": null,
   "metadata": {},
   "outputs": [],
   "source": []
  }
 ],
 "metadata": {
  "kernelspec": {
   "display_name": "project",
   "language": "python",
   "name": "python3"
  },
  "language_info": {
   "codemirror_mode": {
    "name": "ipython",
    "version": 3
   },
   "file_extension": ".py",
   "mimetype": "text/x-python",
   "name": "python",
   "nbconvert_exporter": "python",
   "pygments_lexer": "ipython3",
   "version": "3.10.9"
  }
 },
 "nbformat": 4,
 "nbformat_minor": 2
}
