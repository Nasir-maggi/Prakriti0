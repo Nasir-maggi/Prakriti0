{
 "cells": [
  {
   "cell_type": "code",
   "execution_count": 242,
   "metadata": {},
   "outputs": [],
   "source": [
    "import tensorflow as tf\n",
    "from tensorflow import keras\n",
    "import pandas as pd\n",
    "import numpy as np\n",
    "from sklearn.model_selection import train_test_split"
   ]
  },
  {
   "cell_type": "code",
   "execution_count": 243,
   "metadata": {},
   "outputs": [
    {
     "data": {
      "text/html": [
       "<div>\n",
       "<style scoped>\n",
       "    .dataframe tbody tr th:only-of-type {\n",
       "        vertical-align: middle;\n",
       "    }\n",
       "\n",
       "    .dataframe tbody tr th {\n",
       "        vertical-align: top;\n",
       "    }\n",
       "\n",
       "    .dataframe thead th {\n",
       "        text-align: right;\n",
       "    }\n",
       "</style>\n",
       "<table border=\"1\" class=\"dataframe\">\n",
       "  <thead>\n",
       "    <tr style=\"text-align: right;\">\n",
       "      <th></th>\n",
       "      <th>Body Size</th>\n",
       "      <th>Body Weight</th>\n",
       "      <th>Height</th>\n",
       "      <th>Bone Structure</th>\n",
       "      <th>Com1lexion</th>\n",
       "      <th>General feel of skin</th>\n",
       "      <th>Texture of Skin</th>\n",
       "      <th>Hair Color</th>\n",
       "      <th>A11earance of Hair</th>\n",
       "      <th>Sha1e of face</th>\n",
       "      <th>...</th>\n",
       "      <th>Eyelashes</th>\n",
       "      <th>Blinking of Eyes</th>\n",
       "      <th>Cheeks</th>\n",
       "      <th>Nose</th>\n",
       "      <th>Teeth and gums</th>\n",
       "      <th>Li1s</th>\n",
       "      <th>Nails</th>\n",
       "      <th>A11etite</th>\n",
       "      <th>Liking tastes</th>\n",
       "      <th>Dosha</th>\n",
       "    </tr>\n",
       "  </thead>\n",
       "  <tbody>\n",
       "    <tr>\n",
       "      <th>0</th>\n",
       "      <td>1</td>\n",
       "      <td>1</td>\n",
       "      <td>1</td>\n",
       "      <td>2</td>\n",
       "      <td>2</td>\n",
       "      <td>0</td>\n",
       "      <td>0</td>\n",
       "      <td>0</td>\n",
       "      <td>1</td>\n",
       "      <td>0</td>\n",
       "      <td>...</td>\n",
       "      <td>1</td>\n",
       "      <td>1</td>\n",
       "      <td>0</td>\n",
       "      <td>2</td>\n",
       "      <td>2</td>\n",
       "      <td>0</td>\n",
       "      <td>2</td>\n",
       "      <td>2</td>\n",
       "      <td>0</td>\n",
       "      <td>3</td>\n",
       "    </tr>\n",
       "    <tr>\n",
       "      <th>1</th>\n",
       "      <td>1</td>\n",
       "      <td>1</td>\n",
       "      <td>0</td>\n",
       "      <td>1</td>\n",
       "      <td>1</td>\n",
       "      <td>0</td>\n",
       "      <td>2</td>\n",
       "      <td>1</td>\n",
       "      <td>0</td>\n",
       "      <td>0</td>\n",
       "      <td>...</td>\n",
       "      <td>1</td>\n",
       "      <td>1</td>\n",
       "      <td>1</td>\n",
       "      <td>2</td>\n",
       "      <td>1</td>\n",
       "      <td>0</td>\n",
       "      <td>0</td>\n",
       "      <td>2</td>\n",
       "      <td>0</td>\n",
       "      <td>3</td>\n",
       "    </tr>\n",
       "    <tr>\n",
       "      <th>2</th>\n",
       "      <td>0</td>\n",
       "      <td>1</td>\n",
       "      <td>1</td>\n",
       "      <td>1</td>\n",
       "      <td>1</td>\n",
       "      <td>1</td>\n",
       "      <td>2</td>\n",
       "      <td>0</td>\n",
       "      <td>0</td>\n",
       "      <td>0</td>\n",
       "      <td>...</td>\n",
       "      <td>1</td>\n",
       "      <td>1</td>\n",
       "      <td>1</td>\n",
       "      <td>2</td>\n",
       "      <td>1</td>\n",
       "      <td>1</td>\n",
       "      <td>1</td>\n",
       "      <td>2</td>\n",
       "      <td>0</td>\n",
       "      <td>1</td>\n",
       "    </tr>\n",
       "    <tr>\n",
       "      <th>3</th>\n",
       "      <td>0</td>\n",
       "      <td>1</td>\n",
       "      <td>0</td>\n",
       "      <td>0</td>\n",
       "      <td>1</td>\n",
       "      <td>0</td>\n",
       "      <td>2</td>\n",
       "      <td>0</td>\n",
       "      <td>1</td>\n",
       "      <td>2</td>\n",
       "      <td>...</td>\n",
       "      <td>0</td>\n",
       "      <td>1</td>\n",
       "      <td>1</td>\n",
       "      <td>0</td>\n",
       "      <td>1</td>\n",
       "      <td>1</td>\n",
       "      <td>0</td>\n",
       "      <td>2</td>\n",
       "      <td>0</td>\n",
       "      <td>3</td>\n",
       "    </tr>\n",
       "    <tr>\n",
       "      <th>4</th>\n",
       "      <td>2</td>\n",
       "      <td>1</td>\n",
       "      <td>0</td>\n",
       "      <td>1</td>\n",
       "      <td>0</td>\n",
       "      <td>1</td>\n",
       "      <td>2</td>\n",
       "      <td>0</td>\n",
       "      <td>0</td>\n",
       "      <td>0</td>\n",
       "      <td>...</td>\n",
       "      <td>0</td>\n",
       "      <td>1</td>\n",
       "      <td>0</td>\n",
       "      <td>1</td>\n",
       "      <td>1</td>\n",
       "      <td>1</td>\n",
       "      <td>1</td>\n",
       "      <td>1</td>\n",
       "      <td>1</td>\n",
       "      <td>3</td>\n",
       "    </tr>\n",
       "    <tr>\n",
       "      <th>...</th>\n",
       "      <td>...</td>\n",
       "      <td>...</td>\n",
       "      <td>...</td>\n",
       "      <td>...</td>\n",
       "      <td>...</td>\n",
       "      <td>...</td>\n",
       "      <td>...</td>\n",
       "      <td>...</td>\n",
       "      <td>...</td>\n",
       "      <td>...</td>\n",
       "      <td>...</td>\n",
       "      <td>...</td>\n",
       "      <td>...</td>\n",
       "      <td>...</td>\n",
       "      <td>...</td>\n",
       "      <td>...</td>\n",
       "      <td>...</td>\n",
       "      <td>...</td>\n",
       "      <td>...</td>\n",
       "      <td>...</td>\n",
       "      <td>...</td>\n",
       "    </tr>\n",
       "    <tr>\n",
       "      <th>1195</th>\n",
       "      <td>1</td>\n",
       "      <td>1</td>\n",
       "      <td>0</td>\n",
       "      <td>1</td>\n",
       "      <td>1</td>\n",
       "      <td>1</td>\n",
       "      <td>2</td>\n",
       "      <td>0</td>\n",
       "      <td>0</td>\n",
       "      <td>0</td>\n",
       "      <td>...</td>\n",
       "      <td>1</td>\n",
       "      <td>1</td>\n",
       "      <td>0</td>\n",
       "      <td>2</td>\n",
       "      <td>1</td>\n",
       "      <td>1</td>\n",
       "      <td>0</td>\n",
       "      <td>2</td>\n",
       "      <td>0</td>\n",
       "      <td>3</td>\n",
       "    </tr>\n",
       "    <tr>\n",
       "      <th>1196</th>\n",
       "      <td>1</td>\n",
       "      <td>1</td>\n",
       "      <td>2</td>\n",
       "      <td>1</td>\n",
       "      <td>1</td>\n",
       "      <td>1</td>\n",
       "      <td>2</td>\n",
       "      <td>0</td>\n",
       "      <td>0</td>\n",
       "      <td>0</td>\n",
       "      <td>...</td>\n",
       "      <td>1</td>\n",
       "      <td>1</td>\n",
       "      <td>1</td>\n",
       "      <td>0</td>\n",
       "      <td>1</td>\n",
       "      <td>1</td>\n",
       "      <td>0</td>\n",
       "      <td>1</td>\n",
       "      <td>0</td>\n",
       "      <td>3</td>\n",
       "    </tr>\n",
       "    <tr>\n",
       "      <th>1197</th>\n",
       "      <td>0</td>\n",
       "      <td>0</td>\n",
       "      <td>1</td>\n",
       "      <td>0</td>\n",
       "      <td>1</td>\n",
       "      <td>1</td>\n",
       "      <td>2</td>\n",
       "      <td>0</td>\n",
       "      <td>2</td>\n",
       "      <td>1</td>\n",
       "      <td>...</td>\n",
       "      <td>1</td>\n",
       "      <td>0</td>\n",
       "      <td>0</td>\n",
       "      <td>0</td>\n",
       "      <td>0</td>\n",
       "      <td>1</td>\n",
       "      <td>1</td>\n",
       "      <td>0</td>\n",
       "      <td>0</td>\n",
       "      <td>3</td>\n",
       "    </tr>\n",
       "    <tr>\n",
       "      <th>1198</th>\n",
       "      <td>2</td>\n",
       "      <td>2</td>\n",
       "      <td>1</td>\n",
       "      <td>2</td>\n",
       "      <td>1</td>\n",
       "      <td>1</td>\n",
       "      <td>2</td>\n",
       "      <td>0</td>\n",
       "      <td>1</td>\n",
       "      <td>2</td>\n",
       "      <td>...</td>\n",
       "      <td>1</td>\n",
       "      <td>1</td>\n",
       "      <td>2</td>\n",
       "      <td>2</td>\n",
       "      <td>1</td>\n",
       "      <td>1</td>\n",
       "      <td>0</td>\n",
       "      <td>2</td>\n",
       "      <td>0</td>\n",
       "      <td>4</td>\n",
       "    </tr>\n",
       "    <tr>\n",
       "      <th>1199</th>\n",
       "      <td>2</td>\n",
       "      <td>1</td>\n",
       "      <td>2</td>\n",
       "      <td>2</td>\n",
       "      <td>1</td>\n",
       "      <td>0</td>\n",
       "      <td>2</td>\n",
       "      <td>0</td>\n",
       "      <td>1</td>\n",
       "      <td>0</td>\n",
       "      <td>...</td>\n",
       "      <td>1</td>\n",
       "      <td>1</td>\n",
       "      <td>1</td>\n",
       "      <td>2</td>\n",
       "      <td>1</td>\n",
       "      <td>1</td>\n",
       "      <td>0</td>\n",
       "      <td>0</td>\n",
       "      <td>0</td>\n",
       "      <td>3</td>\n",
       "    </tr>\n",
       "  </tbody>\n",
       "</table>\n",
       "<p>1200 rows × 21 columns</p>\n",
       "</div>"
      ],
      "text/plain": [
       "      Body Size  Body Weight  Height  Bone Structure  Com1lexion  \\\n",
       "0             1            1       1               2           2   \n",
       "1             1            1       0               1           1   \n",
       "2             0            1       1               1           1   \n",
       "3             0            1       0               0           1   \n",
       "4             2            1       0               1           0   \n",
       "...         ...          ...     ...             ...         ...   \n",
       "1195          1            1       0               1           1   \n",
       "1196          1            1       2               1           1   \n",
       "1197          0            0       1               0           1   \n",
       "1198          2            2       1               2           1   \n",
       "1199          2            1       2               2           1   \n",
       "\n",
       "      General feel of skin  Texture of Skin  Hair Color  A11earance of Hair  \\\n",
       "0                        0                0           0                   1   \n",
       "1                        0                2           1                   0   \n",
       "2                        1                2           0                   0   \n",
       "3                        0                2           0                   1   \n",
       "4                        1                2           0                   0   \n",
       "...                    ...              ...         ...                 ...   \n",
       "1195                     1                2           0                   0   \n",
       "1196                     1                2           0                   0   \n",
       "1197                     1                2           0                   2   \n",
       "1198                     1                2           0                   1   \n",
       "1199                     0                2           0                   1   \n",
       "\n",
       "      Sha1e of face  ...  Eyelashes  Blinking of Eyes  Cheeks  Nose  \\\n",
       "0                 0  ...          1                 1       0     2   \n",
       "1                 0  ...          1                 1       1     2   \n",
       "2                 0  ...          1                 1       1     2   \n",
       "3                 2  ...          0                 1       1     0   \n",
       "4                 0  ...          0                 1       0     1   \n",
       "...             ...  ...        ...               ...     ...   ...   \n",
       "1195              0  ...          1                 1       0     2   \n",
       "1196              0  ...          1                 1       1     0   \n",
       "1197              1  ...          1                 0       0     0   \n",
       "1198              2  ...          1                 1       2     2   \n",
       "1199              0  ...          1                 1       1     2   \n",
       "\n",
       "      Teeth and gums  Li1s  Nails  A11etite  Liking tastes  Dosha  \n",
       "0                  2     0      2         2              0      3  \n",
       "1                  1     0      0         2              0      3  \n",
       "2                  1     1      1         2              0      1  \n",
       "3                  1     1      0         2              0      3  \n",
       "4                  1     1      1         1              1      3  \n",
       "...              ...   ...    ...       ...            ...    ...  \n",
       "1195               1     1      0         2              0      3  \n",
       "1196               1     1      0         1              0      3  \n",
       "1197               0     1      1         0              0      3  \n",
       "1198               1     1      0         2              0      4  \n",
       "1199               1     1      0         0              0      3  \n",
       "\n",
       "[1200 rows x 21 columns]"
      ]
     },
     "execution_count": 243,
     "metadata": {},
     "output_type": "execute_result"
    }
   ],
   "source": [
    "dataset = pd.read_csv(\"../dataset/data.csv\")\n",
    "dataset"
   ]
  },
  {
   "cell_type": "code",
   "execution_count": 244,
   "metadata": {},
   "outputs": [
    {
     "name": "stdout",
     "output_type": "stream",
     "text": [
      "[[1 1 1 ... 2 2 0]\n",
      " [1 1 0 ... 0 2 0]\n",
      " [0 1 1 ... 1 2 0]\n",
      " ...\n",
      " [0 0 1 ... 1 0 0]\n",
      " [2 2 1 ... 0 2 0]\n",
      " [2 1 2 ... 0 0 0]]\n"
     ]
    }
   ],
   "source": [
    "X=dataset.iloc[:,:-1].values\n",
    "Y=dataset.iloc[:,20].values\n",
    "print(X)"
   ]
  },
  {
   "cell_type": "code",
   "execution_count": 245,
   "metadata": {},
   "outputs": [
    {
     "name": "stdout",
     "output_type": "stream",
     "text": [
      "[3 3 1 ... 3 4 3]\n"
     ]
    }
   ],
   "source": [
    "print(Y)"
   ]
  },
  {
   "cell_type": "code",
   "execution_count": 246,
   "metadata": {},
   "outputs": [],
   "source": [
    "X_train, X_test, y_train, y_test = train_test_split(X, Y, test_size = 0.2, random_state = 42)\n"
   ]
  },
  {
   "cell_type": "code",
   "execution_count": 247,
   "metadata": {},
   "outputs": [
    {
     "data": {
      "text/plain": [
       "array([[1, 1, 0, ..., 0, 1, 0],\n",
       "       [1, 1, 0, ..., 0, 1, 1],\n",
       "       [1, 0, 0, ..., 0, 0, 0],\n",
       "       ...,\n",
       "       [1, 0, 1, ..., 1, 0, 1],\n",
       "       [0, 1, 0, ..., 1, 2, 0],\n",
       "       [0, 0, 1, ..., 1, 2, 2]], dtype=int64)"
      ]
     },
     "execution_count": 247,
     "metadata": {},
     "output_type": "execute_result"
    }
   ],
   "source": [
    "X_train"
   ]
  },
  {
   "cell_type": "code",
   "execution_count": 248,
   "metadata": {},
   "outputs": [
    {
     "data": {
      "text/html": [
       "<div>\n",
       "<style scoped>\n",
       "    .dataframe tbody tr th:only-of-type {\n",
       "        vertical-align: middle;\n",
       "    }\n",
       "\n",
       "    .dataframe tbody tr th {\n",
       "        vertical-align: top;\n",
       "    }\n",
       "\n",
       "    .dataframe thead th {\n",
       "        text-align: right;\n",
       "    }\n",
       "</style>\n",
       "<table border=\"1\" class=\"dataframe\">\n",
       "  <thead>\n",
       "    <tr style=\"text-align: right;\">\n",
       "      <th></th>\n",
       "      <th>Body Size</th>\n",
       "      <th>Body Weight</th>\n",
       "      <th>Height</th>\n",
       "      <th>Bone Structure</th>\n",
       "      <th>Com1lexion</th>\n",
       "      <th>General feel of skin</th>\n",
       "      <th>Texture of Skin</th>\n",
       "      <th>Hair Color</th>\n",
       "      <th>A11earance of Hair</th>\n",
       "      <th>Sha1e of face</th>\n",
       "      <th>...</th>\n",
       "      <th>Eyelashes</th>\n",
       "      <th>Blinking of Eyes</th>\n",
       "      <th>Cheeks</th>\n",
       "      <th>Nose</th>\n",
       "      <th>Teeth and gums</th>\n",
       "      <th>Li1s</th>\n",
       "      <th>Nails</th>\n",
       "      <th>A11etite</th>\n",
       "      <th>Liking tastes</th>\n",
       "      <th>Dosha</th>\n",
       "    </tr>\n",
       "  </thead>\n",
       "  <tbody>\n",
       "    <tr>\n",
       "      <th>0</th>\n",
       "      <td>1</td>\n",
       "      <td>1</td>\n",
       "      <td>1</td>\n",
       "      <td>2</td>\n",
       "      <td>2</td>\n",
       "      <td>0</td>\n",
       "      <td>0</td>\n",
       "      <td>0</td>\n",
       "      <td>1</td>\n",
       "      <td>0</td>\n",
       "      <td>...</td>\n",
       "      <td>1</td>\n",
       "      <td>1</td>\n",
       "      <td>0</td>\n",
       "      <td>2</td>\n",
       "      <td>2</td>\n",
       "      <td>0</td>\n",
       "      <td>2</td>\n",
       "      <td>2</td>\n",
       "      <td>0</td>\n",
       "      <td>3</td>\n",
       "    </tr>\n",
       "    <tr>\n",
       "      <th>1</th>\n",
       "      <td>1</td>\n",
       "      <td>1</td>\n",
       "      <td>0</td>\n",
       "      <td>1</td>\n",
       "      <td>1</td>\n",
       "      <td>0</td>\n",
       "      <td>2</td>\n",
       "      <td>1</td>\n",
       "      <td>0</td>\n",
       "      <td>0</td>\n",
       "      <td>...</td>\n",
       "      <td>1</td>\n",
       "      <td>1</td>\n",
       "      <td>1</td>\n",
       "      <td>2</td>\n",
       "      <td>1</td>\n",
       "      <td>0</td>\n",
       "      <td>0</td>\n",
       "      <td>2</td>\n",
       "      <td>0</td>\n",
       "      <td>3</td>\n",
       "    </tr>\n",
       "    <tr>\n",
       "      <th>2</th>\n",
       "      <td>0</td>\n",
       "      <td>1</td>\n",
       "      <td>1</td>\n",
       "      <td>1</td>\n",
       "      <td>1</td>\n",
       "      <td>1</td>\n",
       "      <td>2</td>\n",
       "      <td>0</td>\n",
       "      <td>0</td>\n",
       "      <td>0</td>\n",
       "      <td>...</td>\n",
       "      <td>1</td>\n",
       "      <td>1</td>\n",
       "      <td>1</td>\n",
       "      <td>2</td>\n",
       "      <td>1</td>\n",
       "      <td>1</td>\n",
       "      <td>1</td>\n",
       "      <td>2</td>\n",
       "      <td>0</td>\n",
       "      <td>1</td>\n",
       "    </tr>\n",
       "    <tr>\n",
       "      <th>3</th>\n",
       "      <td>0</td>\n",
       "      <td>1</td>\n",
       "      <td>0</td>\n",
       "      <td>0</td>\n",
       "      <td>1</td>\n",
       "      <td>0</td>\n",
       "      <td>2</td>\n",
       "      <td>0</td>\n",
       "      <td>1</td>\n",
       "      <td>2</td>\n",
       "      <td>...</td>\n",
       "      <td>0</td>\n",
       "      <td>1</td>\n",
       "      <td>1</td>\n",
       "      <td>0</td>\n",
       "      <td>1</td>\n",
       "      <td>1</td>\n",
       "      <td>0</td>\n",
       "      <td>2</td>\n",
       "      <td>0</td>\n",
       "      <td>3</td>\n",
       "    </tr>\n",
       "    <tr>\n",
       "      <th>4</th>\n",
       "      <td>2</td>\n",
       "      <td>1</td>\n",
       "      <td>0</td>\n",
       "      <td>1</td>\n",
       "      <td>0</td>\n",
       "      <td>1</td>\n",
       "      <td>2</td>\n",
       "      <td>0</td>\n",
       "      <td>0</td>\n",
       "      <td>0</td>\n",
       "      <td>...</td>\n",
       "      <td>0</td>\n",
       "      <td>1</td>\n",
       "      <td>0</td>\n",
       "      <td>1</td>\n",
       "      <td>1</td>\n",
       "      <td>1</td>\n",
       "      <td>1</td>\n",
       "      <td>1</td>\n",
       "      <td>1</td>\n",
       "      <td>3</td>\n",
       "    </tr>\n",
       "    <tr>\n",
       "      <th>...</th>\n",
       "      <td>...</td>\n",
       "      <td>...</td>\n",
       "      <td>...</td>\n",
       "      <td>...</td>\n",
       "      <td>...</td>\n",
       "      <td>...</td>\n",
       "      <td>...</td>\n",
       "      <td>...</td>\n",
       "      <td>...</td>\n",
       "      <td>...</td>\n",
       "      <td>...</td>\n",
       "      <td>...</td>\n",
       "      <td>...</td>\n",
       "      <td>...</td>\n",
       "      <td>...</td>\n",
       "      <td>...</td>\n",
       "      <td>...</td>\n",
       "      <td>...</td>\n",
       "      <td>...</td>\n",
       "      <td>...</td>\n",
       "      <td>...</td>\n",
       "    </tr>\n",
       "    <tr>\n",
       "      <th>1195</th>\n",
       "      <td>1</td>\n",
       "      <td>1</td>\n",
       "      <td>0</td>\n",
       "      <td>1</td>\n",
       "      <td>1</td>\n",
       "      <td>1</td>\n",
       "      <td>2</td>\n",
       "      <td>0</td>\n",
       "      <td>0</td>\n",
       "      <td>0</td>\n",
       "      <td>...</td>\n",
       "      <td>1</td>\n",
       "      <td>1</td>\n",
       "      <td>0</td>\n",
       "      <td>2</td>\n",
       "      <td>1</td>\n",
       "      <td>1</td>\n",
       "      <td>0</td>\n",
       "      <td>2</td>\n",
       "      <td>0</td>\n",
       "      <td>3</td>\n",
       "    </tr>\n",
       "    <tr>\n",
       "      <th>1196</th>\n",
       "      <td>1</td>\n",
       "      <td>1</td>\n",
       "      <td>2</td>\n",
       "      <td>1</td>\n",
       "      <td>1</td>\n",
       "      <td>1</td>\n",
       "      <td>2</td>\n",
       "      <td>0</td>\n",
       "      <td>0</td>\n",
       "      <td>0</td>\n",
       "      <td>...</td>\n",
       "      <td>1</td>\n",
       "      <td>1</td>\n",
       "      <td>1</td>\n",
       "      <td>0</td>\n",
       "      <td>1</td>\n",
       "      <td>1</td>\n",
       "      <td>0</td>\n",
       "      <td>1</td>\n",
       "      <td>0</td>\n",
       "      <td>3</td>\n",
       "    </tr>\n",
       "    <tr>\n",
       "      <th>1197</th>\n",
       "      <td>0</td>\n",
       "      <td>0</td>\n",
       "      <td>1</td>\n",
       "      <td>0</td>\n",
       "      <td>1</td>\n",
       "      <td>1</td>\n",
       "      <td>2</td>\n",
       "      <td>0</td>\n",
       "      <td>2</td>\n",
       "      <td>1</td>\n",
       "      <td>...</td>\n",
       "      <td>1</td>\n",
       "      <td>0</td>\n",
       "      <td>0</td>\n",
       "      <td>0</td>\n",
       "      <td>0</td>\n",
       "      <td>1</td>\n",
       "      <td>1</td>\n",
       "      <td>0</td>\n",
       "      <td>0</td>\n",
       "      <td>3</td>\n",
       "    </tr>\n",
       "    <tr>\n",
       "      <th>1198</th>\n",
       "      <td>2</td>\n",
       "      <td>2</td>\n",
       "      <td>1</td>\n",
       "      <td>2</td>\n",
       "      <td>1</td>\n",
       "      <td>1</td>\n",
       "      <td>2</td>\n",
       "      <td>0</td>\n",
       "      <td>1</td>\n",
       "      <td>2</td>\n",
       "      <td>...</td>\n",
       "      <td>1</td>\n",
       "      <td>1</td>\n",
       "      <td>2</td>\n",
       "      <td>2</td>\n",
       "      <td>1</td>\n",
       "      <td>1</td>\n",
       "      <td>0</td>\n",
       "      <td>2</td>\n",
       "      <td>0</td>\n",
       "      <td>4</td>\n",
       "    </tr>\n",
       "    <tr>\n",
       "      <th>1199</th>\n",
       "      <td>2</td>\n",
       "      <td>1</td>\n",
       "      <td>2</td>\n",
       "      <td>2</td>\n",
       "      <td>1</td>\n",
       "      <td>0</td>\n",
       "      <td>2</td>\n",
       "      <td>0</td>\n",
       "      <td>1</td>\n",
       "      <td>0</td>\n",
       "      <td>...</td>\n",
       "      <td>1</td>\n",
       "      <td>1</td>\n",
       "      <td>1</td>\n",
       "      <td>2</td>\n",
       "      <td>1</td>\n",
       "      <td>1</td>\n",
       "      <td>0</td>\n",
       "      <td>0</td>\n",
       "      <td>0</td>\n",
       "      <td>3</td>\n",
       "    </tr>\n",
       "  </tbody>\n",
       "</table>\n",
       "<p>1200 rows × 21 columns</p>\n",
       "</div>"
      ],
      "text/plain": [
       "      Body Size  Body Weight  Height  Bone Structure  Com1lexion  \\\n",
       "0             1            1       1               2           2   \n",
       "1             1            1       0               1           1   \n",
       "2             0            1       1               1           1   \n",
       "3             0            1       0               0           1   \n",
       "4             2            1       0               1           0   \n",
       "...         ...          ...     ...             ...         ...   \n",
       "1195          1            1       0               1           1   \n",
       "1196          1            1       2               1           1   \n",
       "1197          0            0       1               0           1   \n",
       "1198          2            2       1               2           1   \n",
       "1199          2            1       2               2           1   \n",
       "\n",
       "      General feel of skin  Texture of Skin  Hair Color  A11earance of Hair  \\\n",
       "0                        0                0           0                   1   \n",
       "1                        0                2           1                   0   \n",
       "2                        1                2           0                   0   \n",
       "3                        0                2           0                   1   \n",
       "4                        1                2           0                   0   \n",
       "...                    ...              ...         ...                 ...   \n",
       "1195                     1                2           0                   0   \n",
       "1196                     1                2           0                   0   \n",
       "1197                     1                2           0                   2   \n",
       "1198                     1                2           0                   1   \n",
       "1199                     0                2           0                   1   \n",
       "\n",
       "      Sha1e of face  ...  Eyelashes  Blinking of Eyes  Cheeks  Nose  \\\n",
       "0                 0  ...          1                 1       0     2   \n",
       "1                 0  ...          1                 1       1     2   \n",
       "2                 0  ...          1                 1       1     2   \n",
       "3                 2  ...          0                 1       1     0   \n",
       "4                 0  ...          0                 1       0     1   \n",
       "...             ...  ...        ...               ...     ...   ...   \n",
       "1195              0  ...          1                 1       0     2   \n",
       "1196              0  ...          1                 1       1     0   \n",
       "1197              1  ...          1                 0       0     0   \n",
       "1198              2  ...          1                 1       2     2   \n",
       "1199              0  ...          1                 1       1     2   \n",
       "\n",
       "      Teeth and gums  Li1s  Nails  A11etite  Liking tastes  Dosha  \n",
       "0                  2     0      2         2              0      3  \n",
       "1                  1     0      0         2              0      3  \n",
       "2                  1     1      1         2              0      1  \n",
       "3                  1     1      0         2              0      3  \n",
       "4                  1     1      1         1              1      3  \n",
       "...              ...   ...    ...       ...            ...    ...  \n",
       "1195               1     1      0         2              0      3  \n",
       "1196               1     1      0         1              0      3  \n",
       "1197               0     1      1         0              0      3  \n",
       "1198               1     1      0         2              0      4  \n",
       "1199               1     1      0         0              0      3  \n",
       "\n",
       "[1200 rows x 21 columns]"
      ]
     },
     "execution_count": 248,
     "metadata": {},
     "output_type": "execute_result"
    }
   ],
   "source": [
    "dataset"
   ]
  },
  {
   "cell_type": "code",
   "execution_count": 249,
   "metadata": {},
   "outputs": [
    {
     "data": {
      "text/plain": [
       "array([[1, 1, 1, ..., 2, 2, 0],\n",
       "       [1, 1, 0, ..., 0, 2, 0],\n",
       "       [0, 1, 1, ..., 1, 2, 0],\n",
       "       ...,\n",
       "       [0, 0, 1, ..., 1, 0, 0],\n",
       "       [2, 2, 1, ..., 0, 2, 0],\n",
       "       [2, 1, 2, ..., 0, 0, 0]], dtype=int64)"
      ]
     },
     "execution_count": 249,
     "metadata": {},
     "output_type": "execute_result"
    }
   ],
   "source": [
    "X"
   ]
  },
  {
   "cell_type": "code",
   "execution_count": 250,
   "metadata": {},
   "outputs": [
    {
     "data": {
      "text/plain": [
       "array([3, 3, 1, ..., 3, 4, 3], dtype=int64)"
      ]
     },
     "execution_count": 250,
     "metadata": {},
     "output_type": "execute_result"
    }
   ],
   "source": [
    "Y"
   ]
  },
  {
   "cell_type": "code",
   "execution_count": 251,
   "metadata": {},
   "outputs": [],
   "source": [
    "model = keras.Sequential([\n",
    "    keras.layers.Dense(19,input_shape=(20,),activation='relu'),\n",
    "    keras.layers.Dense(300,activation='relu'),\n",
    "    keras.layers.Dense(250,activation='relu'),\n",
    "    keras.layers.Dense(200,activation='relu'),\n",
    "    keras.layers.Dense(150,activation='relu'),\n",
    "    keras.layers.Dense(100,activation='relu'),\n",
    "    keras.layers.Dense(50,activation='relu'),\n",
    "    keras.layers.Dense(45,activation='relu'),\n",
    "    keras.layers.Dense(30,activation='relu'),\n",
    "    keras.layers.Dense(20,activation='relu'),\n",
    "    keras.layers.Dense(15,activation='relu'),\n",
    "    keras.layers.Dense(6,activation='sigmoid')    \n",
    "])\n"
   ]
  },
  {
   "cell_type": "code",
   "execution_count": 252,
   "metadata": {},
   "outputs": [
    {
     "name": "stdout",
     "output_type": "stream",
     "text": [
      "Model: \"sequential_5\"\n",
      "_________________________________________________________________\n",
      " Layer (type)                Output Shape              Param #   \n",
      "=================================================================\n",
      " dense_60 (Dense)            (None, 19)                399       \n",
      "                                                                 \n",
      " dense_61 (Dense)            (None, 300)               6000      \n",
      "                                                                 \n",
      " dense_62 (Dense)            (None, 250)               75250     \n",
      "                                                                 \n",
      " dense_63 (Dense)            (None, 200)               50200     \n",
      "                                                                 \n",
      " dense_64 (Dense)            (None, 150)               30150     \n",
      "                                                                 \n",
      " dense_65 (Dense)            (None, 100)               15100     \n",
      "                                                                 \n",
      " dense_66 (Dense)            (None, 50)                5050      \n",
      "                                                                 \n",
      " dense_67 (Dense)            (None, 45)                2295      \n",
      "                                                                 \n",
      " dense_68 (Dense)            (None, 30)                1380      \n",
      "                                                                 \n",
      " dense_69 (Dense)            (None, 20)                620       \n",
      "                                                                 \n",
      " dense_70 (Dense)            (None, 15)                315       \n",
      "                                                                 \n",
      " dense_71 (Dense)            (None, 6)                 96        \n",
      "                                                                 \n",
      "=================================================================\n",
      "Total params: 186855 (729.90 KB)\n",
      "Trainable params: 186855 (729.90 KB)\n",
      "Non-trainable params: 0 (0.00 Byte)\n",
      "_________________________________________________________________\n"
     ]
    }
   ],
   "source": [
    "model.summary()"
   ]
  },
  {
   "cell_type": "code",
   "execution_count": 253,
   "metadata": {},
   "outputs": [],
   "source": [
    "model.compile(\n",
    "    optimizer='adam',\n",
    "    loss='sparse_categorical_crossentropy',\n",
    "    metrics=['accuracy']\n",
    ")"
   ]
  },
  {
   "cell_type": "code",
   "execution_count": 254,
   "metadata": {},
   "outputs": [
    {
     "name": "stdout",
     "output_type": "stream",
     "text": [
      "Epoch 1/20\n"
     ]
    },
    {
     "name": "stdout",
     "output_type": "stream",
     "text": [
      "12/12 [==============================] - 2s 37ms/step - loss: 1.7697 - accuracy: 0.4466 - val_loss: 1.7001 - val_accuracy: 0.5052\n",
      "Epoch 2/20\n",
      "12/12 [==============================] - 0s 11ms/step - loss: 1.6333 - accuracy: 0.5234 - val_loss: 1.5703 - val_accuracy: 0.5052\n",
      "Epoch 3/20\n",
      "12/12 [==============================] - 0s 13ms/step - loss: 1.4327 - accuracy: 0.5234 - val_loss: 1.4338 - val_accuracy: 0.5052\n",
      "Epoch 4/20\n",
      "12/12 [==============================] - 0s 12ms/step - loss: 1.2372 - accuracy: 0.5247 - val_loss: 1.2499 - val_accuracy: 0.5052\n",
      "Epoch 5/20\n",
      "12/12 [==============================] - 0s 15ms/step - loss: 1.1023 - accuracy: 0.5117 - val_loss: 1.0728 - val_accuracy: 0.4844\n",
      "Epoch 6/20\n",
      "12/12 [==============================] - 0s 15ms/step - loss: 0.9886 - accuracy: 0.5117 - val_loss: 0.9715 - val_accuracy: 0.4688\n",
      "Epoch 7/20\n",
      "12/12 [==============================] - 0s 14ms/step - loss: 0.8271 - accuracy: 0.6029 - val_loss: 0.7361 - val_accuracy: 0.6562\n",
      "Epoch 8/20\n",
      "12/12 [==============================] - 0s 12ms/step - loss: 0.5967 - accuracy: 0.6862 - val_loss: 0.5426 - val_accuracy: 0.7031\n",
      "Epoch 9/20\n",
      "12/12 [==============================] - 0s 13ms/step - loss: 0.4898 - accuracy: 0.7487 - val_loss: 0.4928 - val_accuracy: 0.7500\n",
      "Epoch 10/20\n",
      "12/12 [==============================] - 0s 13ms/step - loss: 0.4414 - accuracy: 0.7917 - val_loss: 0.4516 - val_accuracy: 0.7708\n",
      "Epoch 11/20\n",
      "12/12 [==============================] - 0s 13ms/step - loss: 0.3757 - accuracy: 0.8125 - val_loss: 0.3812 - val_accuracy: 0.7865\n",
      "Epoch 12/20\n",
      "12/12 [==============================] - 0s 18ms/step - loss: 0.3199 - accuracy: 0.8372 - val_loss: 0.3353 - val_accuracy: 0.9219\n",
      "Epoch 13/20\n",
      "12/12 [==============================] - 0s 11ms/step - loss: 0.2830 - accuracy: 0.9049 - val_loss: 0.3086 - val_accuracy: 0.9010\n",
      "Epoch 14/20\n",
      "12/12 [==============================] - 0s 10ms/step - loss: 0.3876 - accuracy: 0.8529 - val_loss: 0.3748 - val_accuracy: 0.8177\n",
      "Epoch 15/20\n",
      "12/12 [==============================] - 0s 23ms/step - loss: 0.2670 - accuracy: 0.8620 - val_loss: 0.2485 - val_accuracy: 0.8698\n",
      "Epoch 16/20\n",
      "12/12 [==============================] - 0s 11ms/step - loss: 0.1673 - accuracy: 0.9427 - val_loss: 0.1454 - val_accuracy: 0.9635\n",
      "Epoch 17/20\n",
      "12/12 [==============================] - 0s 10ms/step - loss: 0.0915 - accuracy: 0.9753 - val_loss: 0.0994 - val_accuracy: 0.9635\n",
      "Epoch 18/20\n",
      "12/12 [==============================] - 0s 9ms/step - loss: 0.0649 - accuracy: 0.9753 - val_loss: 0.0779 - val_accuracy: 0.9635\n",
      "Epoch 19/20\n",
      "12/12 [==============================] - 0s 13ms/step - loss: 0.0570 - accuracy: 0.9753 - val_loss: 0.0622 - val_accuracy: 0.9635\n",
      "Epoch 20/20\n",
      "12/12 [==============================] - 0s 11ms/step - loss: 0.0440 - accuracy: 0.9935 - val_loss: 0.0427 - val_accuracy: 0.9844\n"
     ]
    },
    {
     "data": {
      "text/plain": [
       "<keras.src.callbacks.History at 0x1f236dbf8b0>"
      ]
     },
     "execution_count": 254,
     "metadata": {},
     "output_type": "execute_result"
    }
   ],
   "source": [
    "model.fit(X_train,y_train,epochs=20, batch_size=64, validation_split=0.2)"
   ]
  },
  {
   "cell_type": "code",
   "execution_count": 255,
   "metadata": {},
   "outputs": [
    {
     "data": {
      "text/plain": [
       "array([1, 1, 0, 1, 1, 0, 2, 0, 0, 0, 2, 0, 0, 0, 1, 1, 0, 0, 1, 0],\n",
       "      dtype=int64)"
      ]
     },
     "execution_count": 255,
     "metadata": {},
     "output_type": "execute_result"
    }
   ],
   "source": [
    "X_train[0]"
   ]
  },
  {
   "cell_type": "code",
   "execution_count": 256,
   "metadata": {},
   "outputs": [
    {
     "data": {
      "text/plain": [
       "array([[1, 1, 1, ..., 1, 0, 0],\n",
       "       [1, 1, 1, ..., 1, 0, 0],\n",
       "       [1, 1, 0, ..., 0, 2, 0],\n",
       "       ...,\n",
       "       [1, 0, 0, ..., 1, 0, 0],\n",
       "       [1, 1, 1, ..., 2, 2, 0],\n",
       "       [0, 0, 1, ..., 0, 0, 0]], dtype=int64)"
      ]
     },
     "execution_count": 256,
     "metadata": {},
     "output_type": "execute_result"
    }
   ],
   "source": [
    "X_test"
   ]
  },
  {
   "cell_type": "code",
   "execution_count": 257,
   "metadata": {},
   "outputs": [
    {
     "name": "stdout",
     "output_type": "stream",
     "text": [
      "8/8 [==============================] - 0s 2ms/step\n"
     ]
    },
    {
     "data": {
      "text/plain": [
       "array([[5.5938786e-01, 9.9967927e-01, 6.7020940e-15, 5.1821548e-01,\n",
       "        5.5264774e-08, 9.9656172e-02],\n",
       "       [9.9302977e-13, 5.0343391e-10, 0.0000000e+00, 1.0000000e+00,\n",
       "        5.9581859e-17, 2.4096404e-13],\n",
       "       [1.0297258e-02, 7.8199030e-04, 2.1123922e-24, 9.9188107e-01,\n",
       "        3.5594628e-11, 3.0642827e-06],\n",
       "       ...,\n",
       "       [9.9996579e-01, 7.0779115e-01, 4.8153074e-12, 8.0286777e-03,\n",
       "        1.0451671e-10, 8.9898676e-04],\n",
       "       [8.6782193e-01, 9.9934036e-01, 2.0466625e-13, 4.5629752e-01,\n",
       "        4.7221892e-08, 1.0017301e-02],\n",
       "       [9.9997342e-01, 4.4338459e-01, 5.2951603e-16, 2.2479665e-02,\n",
       "        1.4988684e-12, 2.1577840e-04]], dtype=float32)"
      ]
     },
     "execution_count": 257,
     "metadata": {},
     "output_type": "execute_result"
    }
   ],
   "source": [
    "model.predict(X_test)"
   ]
  },
  {
   "cell_type": "code",
   "execution_count": 258,
   "metadata": {},
   "outputs": [
    {
     "name": "stdout",
     "output_type": "stream",
     "text": [
      "1/1 [==============================] - 0s 192ms/step\n"
     ]
    },
    {
     "data": {
      "text/plain": [
       "3"
      ]
     },
     "execution_count": 258,
     "metadata": {},
     "output_type": "execute_result"
    }
   ],
   "source": [
    "np.argmax(model.predict([[2,1,2,2,1,0,2,0,1,0,1,1,1,1,2,1,1,0,0,0]]))"
   ]
  },
  {
   "cell_type": "code",
   "execution_count": 259,
   "metadata": {},
   "outputs": [],
   "source": [
    "from sklearn.metrics import classification_report,accuracy_score,confusion_matrix,precision_score,recall_score"
   ]
  },
  {
   "cell_type": "code",
   "execution_count": 260,
   "metadata": {},
   "outputs": [
    {
     "name": "stdout",
     "output_type": "stream",
     "text": [
      "8/8 [==============================] - 0s 2ms/step\n"
     ]
    }
   ],
   "source": [
    "Y_pred=model.predict(X_test)"
   ]
  },
  {
   "cell_type": "code",
   "execution_count": 261,
   "metadata": {},
   "outputs": [
    {
     "data": {
      "text/plain": [
       "array([[5.5938786e-01, 9.9967927e-01, 6.7020940e-15, 5.1821548e-01,\n",
       "        5.5264774e-08, 9.9656172e-02],\n",
       "       [9.9302977e-13, 5.0343391e-10, 0.0000000e+00, 1.0000000e+00,\n",
       "        5.9581859e-17, 2.4096404e-13],\n",
       "       [1.0297258e-02, 7.8199030e-04, 2.1123922e-24, 9.9188107e-01,\n",
       "        3.5594628e-11, 3.0642827e-06],\n",
       "       ...,\n",
       "       [9.9996579e-01, 7.0779115e-01, 4.8153074e-12, 8.0286777e-03,\n",
       "        1.0451671e-10, 8.9898676e-04],\n",
       "       [8.6782193e-01, 9.9934036e-01, 2.0466625e-13, 4.5629752e-01,\n",
       "        4.7221892e-08, 1.0017301e-02],\n",
       "       [9.9997342e-01, 4.4338459e-01, 5.2951603e-16, 2.2479665e-02,\n",
       "        1.4988684e-12, 2.1577840e-04]], dtype=float32)"
      ]
     },
     "execution_count": 261,
     "metadata": {},
     "output_type": "execute_result"
    }
   ],
   "source": [
    "Y_pred"
   ]
  },
  {
   "cell_type": "code",
   "execution_count": 262,
   "metadata": {},
   "outputs": [],
   "source": [
    "target=[\"Vata\",\"Pitta\",\"Kapha\",\"vata+pitta\",\"vata+kapha\",\"pitta+kapha\"]"
   ]
  },
  {
   "cell_type": "code",
   "execution_count": 263,
   "metadata": {},
   "outputs": [
    {
     "data": {
      "text/plain": [
       "[1,\n",
       " 3,\n",
       " 3,\n",
       " 3,\n",
       " 5,\n",
       " 1,\n",
       " 3,\n",
       " 0,\n",
       " 2,\n",
       " 3,\n",
       " 1,\n",
       " 4,\n",
       " 1,\n",
       " 1,\n",
       " 0,\n",
       " 3,\n",
       " 3,\n",
       " 3,\n",
       " 3,\n",
       " 3,\n",
       " 3,\n",
       " 3,\n",
       " 0,\n",
       " 4,\n",
       " 3,\n",
       " 3,\n",
       " 3,\n",
       " 3,\n",
       " 5,\n",
       " 4,\n",
       " 3,\n",
       " 1,\n",
       " 1,\n",
       " 4,\n",
       " 3,\n",
       " 1,\n",
       " 4,\n",
       " 3,\n",
       " 3,\n",
       " 0,\n",
       " 3,\n",
       " 3,\n",
       " 1,\n",
       " 3,\n",
       " 2,\n",
       " 0,\n",
       " 3,\n",
       " 3,\n",
       " 3,\n",
       " 3,\n",
       " 3,\n",
       " 0,\n",
       " 3,\n",
       " 5,\n",
       " 0,\n",
       " 5,\n",
       " 3,\n",
       " 0,\n",
       " 3,\n",
       " 3,\n",
       " 3,\n",
       " 3,\n",
       " 3,\n",
       " 3,\n",
       " 3,\n",
       " 1,\n",
       " 3,\n",
       " 3,\n",
       " 1,\n",
       " 3,\n",
       " 4,\n",
       " 0,\n",
       " 0,\n",
       " 3,\n",
       " 1,\n",
       " 3,\n",
       " 2,\n",
       " 0,\n",
       " 0,\n",
       " 2,\n",
       " 5,\n",
       " 3,\n",
       " 4,\n",
       " 3,\n",
       " 1,\n",
       " 3,\n",
       " 0,\n",
       " 0,\n",
       " 3,\n",
       " 0,\n",
       " 3,\n",
       " 0,\n",
       " 3,\n",
       " 3,\n",
       " 3,\n",
       " 3,\n",
       " 1,\n",
       " 3,\n",
       " 1,\n",
       " 3,\n",
       " 0,\n",
       " 0,\n",
       " 0,\n",
       " 3,\n",
       " 3,\n",
       " 3,\n",
       " 3,\n",
       " 1,\n",
       " 3,\n",
       " 0,\n",
       " 3,\n",
       " 3,\n",
       " 0,\n",
       " 0,\n",
       " 3,\n",
       " 3,\n",
       " 4,\n",
       " 5,\n",
       " 3,\n",
       " 1,\n",
       " 3,\n",
       " 3,\n",
       " 3,\n",
       " 3,\n",
       " 3,\n",
       " 3,\n",
       " 4,\n",
       " 3,\n",
       " 1,\n",
       " 3,\n",
       " 0,\n",
       " 0,\n",
       " 1,\n",
       " 3,\n",
       " 0,\n",
       " 3,\n",
       " 3,\n",
       " 1,\n",
       " 3,\n",
       " 4,\n",
       " 3,\n",
       " 3,\n",
       " 1,\n",
       " 0,\n",
       " 3,\n",
       " 5,\n",
       " 2,\n",
       " 3,\n",
       " 3,\n",
       " 3,\n",
       " 1,\n",
       " 2,\n",
       " 3,\n",
       " 3,\n",
       " 3,\n",
       " 3,\n",
       " 3,\n",
       " 0,\n",
       " 1,\n",
       " 1,\n",
       " 3,\n",
       " 4,\n",
       " 5,\n",
       " 3,\n",
       " 3,\n",
       " 3,\n",
       " 1,\n",
       " 3,\n",
       " 3,\n",
       " 0,\n",
       " 3,\n",
       " 3,\n",
       " 0,\n",
       " 4,\n",
       " 3,\n",
       " 0,\n",
       " 1,\n",
       " 0,\n",
       " 3,\n",
       " 3,\n",
       " 5,\n",
       " 3,\n",
       " 1,\n",
       " 3,\n",
       " 1,\n",
       " 3,\n",
       " 3,\n",
       " 1,\n",
       " 0,\n",
       " 1,\n",
       " 3,\n",
       " 1,\n",
       " 3,\n",
       " 0,\n",
       " 3,\n",
       " 4,\n",
       " 1,\n",
       " 1,\n",
       " 1,\n",
       " 0,\n",
       " 1,\n",
       " 3,\n",
       " 0,\n",
       " 0,\n",
       " 3,\n",
       " 1,\n",
       " 3,\n",
       " 2,\n",
       " 3,\n",
       " 3,\n",
       " 3,\n",
       " 3,\n",
       " 0,\n",
       " 4,\n",
       " 1,\n",
       " 3,\n",
       " 0,\n",
       " 0,\n",
       " 0,\n",
       " 5,\n",
       " 0,\n",
       " 3,\n",
       " 3,\n",
       " 2,\n",
       " 1,\n",
       " 0,\n",
       " 3,\n",
       " 3,\n",
       " 0,\n",
       " 1,\n",
       " 3,\n",
       " 0,\n",
       " 2,\n",
       " 4,\n",
       " 0,\n",
       " 0,\n",
       " 3,\n",
       " 0,\n",
       " 1,\n",
       " 0]"
      ]
     },
     "execution_count": 263,
     "metadata": {},
     "output_type": "execute_result"
    }
   ],
   "source": [
    "y_predict_labels = [np.argmax(i) for i in Y_pred]\n",
    "y_predict_labels"
   ]
  },
  {
   "cell_type": "code",
   "execution_count": 264,
   "metadata": {},
   "outputs": [
    {
     "data": {
      "text/plain": [
       "['Pitta',\n",
       " 'vata+pitta',\n",
       " 'vata+pitta',\n",
       " 'vata+pitta',\n",
       " 'pitta+kapha',\n",
       " 'Pitta',\n",
       " 'vata+pitta',\n",
       " 'Vata',\n",
       " 'Kapha',\n",
       " 'vata+pitta',\n",
       " 'Pitta',\n",
       " 'vata+kapha',\n",
       " 'Pitta',\n",
       " 'Pitta',\n",
       " 'Vata',\n",
       " 'vata+pitta',\n",
       " 'vata+pitta',\n",
       " 'vata+pitta',\n",
       " 'vata+pitta',\n",
       " 'vata+pitta',\n",
       " 'vata+pitta',\n",
       " 'vata+pitta',\n",
       " 'Vata',\n",
       " 'vata+kapha',\n",
       " 'vata+pitta',\n",
       " 'vata+pitta',\n",
       " 'vata+pitta',\n",
       " 'vata+pitta',\n",
       " 'pitta+kapha',\n",
       " 'vata+kapha',\n",
       " 'vata+pitta',\n",
       " 'Pitta',\n",
       " 'Pitta',\n",
       " 'vata+kapha',\n",
       " 'vata+pitta',\n",
       " 'Pitta',\n",
       " 'vata+kapha',\n",
       " 'vata+pitta',\n",
       " 'vata+pitta',\n",
       " 'Vata',\n",
       " 'vata+pitta',\n",
       " 'vata+pitta',\n",
       " 'Pitta',\n",
       " 'vata+pitta',\n",
       " 'Kapha',\n",
       " 'Vata',\n",
       " 'vata+pitta',\n",
       " 'vata+pitta',\n",
       " 'vata+pitta',\n",
       " 'vata+pitta',\n",
       " 'vata+pitta',\n",
       " 'Vata',\n",
       " 'vata+pitta',\n",
       " 'pitta+kapha',\n",
       " 'Vata',\n",
       " 'pitta+kapha',\n",
       " 'vata+pitta',\n",
       " 'Vata',\n",
       " 'vata+pitta',\n",
       " 'vata+pitta',\n",
       " 'vata+pitta',\n",
       " 'vata+pitta',\n",
       " 'vata+pitta',\n",
       " 'vata+pitta',\n",
       " 'vata+pitta',\n",
       " 'Pitta',\n",
       " 'vata+pitta',\n",
       " 'vata+pitta',\n",
       " 'Pitta',\n",
       " 'vata+pitta',\n",
       " 'vata+kapha',\n",
       " 'Vata',\n",
       " 'Vata',\n",
       " 'vata+pitta',\n",
       " 'Pitta',\n",
       " 'vata+pitta',\n",
       " 'Kapha',\n",
       " 'Vata',\n",
       " 'Vata',\n",
       " 'Kapha',\n",
       " 'pitta+kapha',\n",
       " 'vata+pitta',\n",
       " 'vata+kapha',\n",
       " 'vata+pitta',\n",
       " 'Pitta',\n",
       " 'vata+pitta',\n",
       " 'Vata',\n",
       " 'Vata',\n",
       " 'vata+pitta',\n",
       " 'Vata',\n",
       " 'vata+pitta',\n",
       " 'Vata',\n",
       " 'vata+pitta',\n",
       " 'vata+pitta',\n",
       " 'vata+pitta',\n",
       " 'vata+pitta',\n",
       " 'Pitta',\n",
       " 'vata+pitta',\n",
       " 'Pitta',\n",
       " 'vata+pitta',\n",
       " 'Vata',\n",
       " 'Vata',\n",
       " 'Vata',\n",
       " 'vata+pitta',\n",
       " 'vata+pitta',\n",
       " 'vata+pitta',\n",
       " 'vata+pitta',\n",
       " 'Pitta',\n",
       " 'vata+pitta',\n",
       " 'Vata',\n",
       " 'vata+pitta',\n",
       " 'vata+pitta',\n",
       " 'Vata',\n",
       " 'Vata',\n",
       " 'vata+pitta',\n",
       " 'vata+pitta',\n",
       " 'vata+kapha',\n",
       " 'pitta+kapha',\n",
       " 'vata+pitta',\n",
       " 'Pitta',\n",
       " 'vata+pitta',\n",
       " 'vata+pitta',\n",
       " 'vata+pitta',\n",
       " 'vata+pitta',\n",
       " 'vata+pitta',\n",
       " 'vata+pitta',\n",
       " 'vata+kapha',\n",
       " 'vata+pitta',\n",
       " 'Pitta',\n",
       " 'vata+pitta',\n",
       " 'Vata',\n",
       " 'Vata',\n",
       " 'Pitta',\n",
       " 'vata+pitta',\n",
       " 'Vata',\n",
       " 'vata+pitta',\n",
       " 'vata+pitta',\n",
       " 'Pitta',\n",
       " 'vata+pitta',\n",
       " 'vata+kapha',\n",
       " 'vata+pitta',\n",
       " 'vata+pitta',\n",
       " 'Pitta',\n",
       " 'Vata',\n",
       " 'vata+pitta',\n",
       " 'pitta+kapha',\n",
       " 'Kapha',\n",
       " 'vata+pitta',\n",
       " 'vata+pitta',\n",
       " 'vata+pitta',\n",
       " 'Pitta',\n",
       " 'Kapha',\n",
       " 'vata+pitta',\n",
       " 'vata+pitta',\n",
       " 'vata+pitta',\n",
       " 'vata+pitta',\n",
       " 'vata+pitta',\n",
       " 'Vata',\n",
       " 'Pitta',\n",
       " 'Pitta',\n",
       " 'vata+pitta',\n",
       " 'vata+kapha',\n",
       " 'pitta+kapha',\n",
       " 'vata+pitta',\n",
       " 'vata+pitta',\n",
       " 'vata+pitta',\n",
       " 'Pitta',\n",
       " 'vata+pitta',\n",
       " 'vata+pitta',\n",
       " 'Vata',\n",
       " 'vata+pitta',\n",
       " 'vata+pitta',\n",
       " 'Vata',\n",
       " 'vata+kapha',\n",
       " 'vata+pitta',\n",
       " 'Vata',\n",
       " 'Pitta',\n",
       " 'Vata',\n",
       " 'vata+pitta',\n",
       " 'vata+pitta',\n",
       " 'pitta+kapha',\n",
       " 'vata+pitta',\n",
       " 'Pitta',\n",
       " 'vata+pitta',\n",
       " 'Pitta',\n",
       " 'vata+pitta',\n",
       " 'vata+pitta',\n",
       " 'Pitta',\n",
       " 'Vata',\n",
       " 'Pitta',\n",
       " 'vata+pitta',\n",
       " 'Pitta',\n",
       " 'vata+pitta',\n",
       " 'Vata',\n",
       " 'vata+pitta',\n",
       " 'vata+kapha',\n",
       " 'Pitta',\n",
       " 'Pitta',\n",
       " 'Pitta',\n",
       " 'Vata',\n",
       " 'Pitta',\n",
       " 'vata+pitta',\n",
       " 'Vata',\n",
       " 'Vata',\n",
       " 'vata+pitta',\n",
       " 'Pitta',\n",
       " 'vata+pitta',\n",
       " 'Kapha',\n",
       " 'vata+pitta',\n",
       " 'vata+pitta',\n",
       " 'vata+pitta',\n",
       " 'vata+pitta',\n",
       " 'Vata',\n",
       " 'vata+kapha',\n",
       " 'Pitta',\n",
       " 'vata+pitta',\n",
       " 'Vata',\n",
       " 'Vata',\n",
       " 'Vata',\n",
       " 'pitta+kapha',\n",
       " 'Vata',\n",
       " 'vata+pitta',\n",
       " 'vata+pitta',\n",
       " 'Kapha',\n",
       " 'Pitta',\n",
       " 'Vata',\n",
       " 'vata+pitta',\n",
       " 'vata+pitta',\n",
       " 'Vata',\n",
       " 'Pitta',\n",
       " 'vata+pitta',\n",
       " 'Vata',\n",
       " 'Kapha',\n",
       " 'vata+kapha',\n",
       " 'Vata',\n",
       " 'Vata',\n",
       " 'vata+pitta',\n",
       " 'Vata',\n",
       " 'Pitta',\n",
       " 'Vata']"
      ]
     },
     "execution_count": 264,
     "metadata": {},
     "output_type": "execute_result"
    }
   ],
   "source": [
    "outputs=[target[i] for i in y_predict_labels]\n",
    "outputs"
   ]
  },
  {
   "cell_type": "code",
   "execution_count": 265,
   "metadata": {},
   "outputs": [
    {
     "name": "stdout",
     "output_type": "stream",
     "text": [
      "              precision    recall  f1-score   support\n",
      "\n",
      "           0       1.00      1.00      1.00        48\n",
      "           1       0.82      1.00      0.90        33\n",
      "           2       1.00      1.00      1.00         9\n",
      "           3       1.00      0.94      0.97       125\n",
      "           4       1.00      1.00      1.00        15\n",
      "           5       1.00      1.00      1.00        10\n",
      "\n",
      "    accuracy                           0.97       240\n",
      "   macro avg       0.97      0.99      0.98       240\n",
      "weighted avg       0.98      0.97      0.97       240\n",
      "\n"
     ]
    }
   ],
   "source": [
    "print(classification_report(y_test,y_predict_labels))"
   ]
  },
  {
   "cell_type": "code",
   "execution_count": 266,
   "metadata": {},
   "outputs": [
    {
     "name": "stdout",
     "output_type": "stream",
     "text": [
      "[[ 48   0   0   0   0   0]\n",
      " [  0  33   0   0   0   0]\n",
      " [  0   0   9   0   0   0]\n",
      " [  0   7   0 118   0   0]\n",
      " [  0   0   0   0  15   0]\n",
      " [  0   0   0   0   0  10]]\n"
     ]
    }
   ],
   "source": [
    "print(confusion_matrix(y_test,y_predict_labels))"
   ]
  },
  {
   "cell_type": "code",
   "execution_count": 267,
   "metadata": {},
   "outputs": [
    {
     "name": "stdout",
     "output_type": "stream",
     "text": [
      "97.08333333333333\n"
     ]
    }
   ],
   "source": [
    "print(accuracy_score(y_test,y_predict_labels)*100)"
   ]
  },
  {
   "cell_type": "code",
   "execution_count": 268,
   "metadata": {},
   "outputs": [],
   "source": [
    "cm = tf.math.confusion_matrix(labels=y_test,predictions=y_predict_labels)"
   ]
  },
  {
   "cell_type": "code",
   "execution_count": 269,
   "metadata": {},
   "outputs": [
    {
     "data": {
      "text/plain": [
       "<tf.Tensor: shape=(6, 6), dtype=int32, numpy=\n",
       "array([[ 48,   0,   0,   0,   0,   0],\n",
       "       [  0,  33,   0,   0,   0,   0],\n",
       "       [  0,   0,   9,   0,   0,   0],\n",
       "       [  0,   7,   0, 118,   0,   0],\n",
       "       [  0,   0,   0,   0,  15,   0],\n",
       "       [  0,   0,   0,   0,   0,  10]])>"
      ]
     },
     "execution_count": 269,
     "metadata": {},
     "output_type": "execute_result"
    }
   ],
   "source": [
    "cm"
   ]
  },
  {
   "cell_type": "code",
   "execution_count": 270,
   "metadata": {},
   "outputs": [],
   "source": [
    "import seaborn as sns\n",
    "import matplotlib.pyplot as plt\n"
   ]
  },
  {
   "cell_type": "code",
   "execution_count": 271,
   "metadata": {},
   "outputs": [
    {
     "data": {
      "text/plain": [
       "[]"
      ]
     },
     "execution_count": 271,
     "metadata": {},
     "output_type": "execute_result"
    },
    {
     "data": {
      "image/png": "[encoded data removed]",
      "text/plain": [
       "<Figure size 640x480 with 1 Axes>"
      ]
     },
     "metadata": {},
     "output_type": "display_data"
    }
   ],
   "source": [
    "sns.heatmap(cm,annot=True,fmt='d',xticklabels=target,yticklabels=target,cbar=False,cmap=\"BuGn\")\n",
    "plt.xlabel(\"Predicted\")\n",
    "plt.ylabel(\"Actual\")\n",
    "plt.plot()"
   ]
  },
  {
   "cell_type": "code",
   "execution_count": 272,
   "metadata": {},
   "outputs": [
    {
     "name": "stdout",
     "output_type": "stream",
     "text": [
      "0.9708333333333333\n"
     ]
    }
   ],
   "source": [
    "print(recall_score(y_test,y_predict_labels,average=\"weighted\"))"
   ]
  },
  {
   "cell_type": "code",
   "execution_count": 273,
   "metadata": {},
   "outputs": [
    {
     "name": "stdout",
     "output_type": "stream",
     "text": [
      "0.9759375\n"
     ]
    }
   ],
   "source": [
    "print(precision_score(y_test,y_predict_labels,average=\"weighted\"))"
   ]
  },
  {
   "cell_type": "code",
   "execution_count": 274,
   "metadata": {},
   "outputs": [
    {
     "name": "stdout",
     "output_type": "stream",
     "text": [
      "0.9718116391378696\n"
     ]
    }
   ],
   "source": [
    "from sklearn.metrics import f1_score\n",
    "\n",
    "\n",
    "print(f1_score(y_test,y_predict_labels,average=\"weighted\"))"
   ]
  },
  {
   "cell_type": "code",
   "execution_count": 275,
   "metadata": {},
   "outputs": [
    {
     "data": {
      "text/plain": [
       "['Vata', 'Pitta', 'Kapha', 'vata+pitta', 'vata+kapha', 'pitta+kapha']"
      ]
     },
     "execution_count": 275,
     "metadata": {},
     "output_type": "execute_result"
    }
   ],
   "source": [
    "target"
   ]
  },
  {
   "cell_type": "code",
   "execution_count": 276,
   "metadata": {},
   "outputs": [
    {
     "data": {
      "text/plain": [
       "array([1, 1, 1, 1, 2, 2, 1, 0, 1, 0, 0, 1, 1, 1, 1, 1, 1, 1, 0, 0],\n",
       "      dtype=int64)"
      ]
     },
     "execution_count": 276,
     "metadata": {},
     "output_type": "execute_result"
    }
   ],
   "source": [
    "X_test[0]"
   ]
  },
  {
   "cell_type": "code",
   "execution_count": 277,
   "metadata": {},
   "outputs": [
    {
     "name": "stdout",
     "output_type": "stream",
     "text": [
      "[[1 1 1 1 0 1 0 0 1 2 1 0 1 1 0 0 1 1 0 0]]\n"
     ]
    }
   ],
   "source": [
    "checking_values=np.array(X_test[1],ndmin=2)\n",
    "print(checking_values)"
   ]
  },
  {
   "cell_type": "code",
   "execution_count": 278,
   "metadata": {},
   "outputs": [
    {
     "name": "stdout",
     "output_type": "stream",
     "text": [
      "1/1 [==============================] - 0s 28ms/step\n"
     ]
    },
    {
     "data": {
      "text/plain": [
       "3"
      ]
     },
     "execution_count": 278,
     "metadata": {},
     "output_type": "execute_result"
    }
   ],
   "source": [
    "np.argmax(model.predict(checking_values))"
   ]
  },
  {
   "cell_type": "code",
   "execution_count": 279,
   "metadata": {},
   "outputs": [
    {
     "name": "stdout",
     "output_type": "stream",
     "text": [
      "1/1 [==============================] - 0s 36ms/step\n",
      "[[9.9303172e-13 5.0343191e-10 0.0000000e+00 1.0000000e+00 5.9581634e-17\n",
      "  2.4096681e-13]]\n"
     ]
    }
   ],
   "source": [
    "Predicted_data=model.predict(checking_values)\n",
    "print(Predicted_data)"
   ]
  },
  {
   "cell_type": "code",
   "execution_count": 280,
   "metadata": {},
   "outputs": [
    {
     "name": "stdout",
     "output_type": "stream",
     "text": [
      "1/1 [==============================] - 0s 32ms/step\n",
      "3\n"
     ]
    }
   ],
   "source": [
    "Actual_class=np.argmax(model.predict(checking_values))\n",
    "print(Actual_class)"
   ]
  },
  {
   "cell_type": "code",
   "execution_count": 281,
   "metadata": {},
   "outputs": [
    {
     "name": "stdout",
     "output_type": "stream",
     "text": [
      "[[9.930317202214156e-11, 5.0343190727275555e-08, 0.0, 100.0, 5.958163423373737e-15, 2.4096680597066045e-11]]\n"
     ]
    }
   ],
   "source": [
    "prakruti_percentages = []\n",
    "for probs in Predicted_data:\n",
    "    percentages = [prob * 100 for prob in probs]\n",
    "    prakruti_percentages.append(percentages)\n",
    "print(prakruti_percentages)"
   ]
  },
  {
   "cell_type": "code",
   "execution_count": 282,
   "metadata": {},
   "outputs": [
    {
     "name": "stdout",
     "output_type": "stream",
     "text": [
      "Sample 1 Prakruti Percentages:\n",
      "Vata: 0.00%\n",
      "Pitta: 0.00%\n",
      "Kapha: 0.00%\n",
      "vata+pitta: 100.00%\n",
      "vata+kapha: 0.00%\n",
      "pitta+kapha: 0.00%\n"
     ]
    }
   ],
   "source": [
    "# Print the results\n",
    "for i, percentages in enumerate(prakruti_percentages):\n",
    "    print(\"Sample\", i+1, \"Prakruti Percentages:\")\n",
    "    for j, prakruti_type in enumerate(target):\n",
    "        print(prakruti_type + \":\", \"{:.2f}%\".format(percentages[j]))"
   ]
  },
  {
   "cell_type": "code",
   "execution_count": 283,
   "metadata": {},
   "outputs": [
    {
     "data": {
      "text/plain": [
       "[[9.930317202214156e-11,\n",
       "  5.0343190727275555e-08,\n",
       "  0.0,\n",
       "  100.0,\n",
       "  5.958163423373737e-15,\n",
       "  2.4096680597066045e-11]]"
      ]
     },
     "execution_count": 283,
     "metadata": {},
     "output_type": "execute_result"
    }
   ],
   "source": [
    "prakruti_percentages"
   ]
  },
  {
   "cell_type": "code",
   "execution_count": 284,
   "metadata": {},
   "outputs": [],
   "source": [
    "probs=prakruti_percentages\n",
    "    "
   ]
  },
  {
   "cell_type": "code",
   "execution_count": 285,
   "metadata": {},
   "outputs": [
    {
     "data": {
      "text/plain": [
       "array([[9.93031720e-11, 5.03431907e-08, 0.00000000e+00, 1.00000000e+02,\n",
       "        5.95816342e-15, 2.40966806e-11]])"
      ]
     },
     "execution_count": 285,
     "metadata": {},
     "output_type": "execute_result"
    }
   ],
   "source": [
    "prakruti_percentages=np.array(prakruti_percentages)\n",
    "prakruti_percentages\n",
    "    "
   ]
  },
  {
   "cell_type": "code",
   "execution_count": 286,
   "metadata": {},
   "outputs": [
    {
     "name": "stdout",
     "output_type": "stream",
     "text": [
      "vata+pitta => 100.0\n",
      "Vata => 5.0343190727275555e-08\n"
     ]
    }
   ],
   "source": [
    "for i in range(2):\n",
    "    index = np.argmax(prakruti_percentages[0])\n",
    "    maximum = np.max(prakruti_percentages[0])\n",
    "    print(target[index], \"=>\", maximum)\n",
    "    prakruti_percentages = np.delete(prakruti_percentages, (0, index))"
   ]
  },
  {
   "cell_type": "code",
   "execution_count": null,
   "metadata": {},
   "outputs": [],
   "source": []
  }
 ],
 "metadata": {
  "kernelspec": {
   "display_name": "project",
   "language": "python",
   "name": "python3"
  },
  "language_info": {
   "codemirror_mode": {
    "name": "ipython",
    "version": 3
   },
   "file_extension": ".py",
   "mimetype": "text/x-python",
   "name": "python",
   "nbconvert_exporter": "python",
   "pygments_lexer": "ipython3",
   "version": "3.10.9"
  }
 },
 "nbformat": 4,
 "nbformat_minor": 2
}
